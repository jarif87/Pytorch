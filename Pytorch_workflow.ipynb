{
  "nbformat": 4,
  "nbformat_minor": 0,
  "metadata": {
    "colab": {
      "provenance": []
    },
    "kernelspec": {
      "name": "python3",
      "display_name": "Python 3"
    },
    "language_info": {
      "name": "python"
    }
  },
  "cells": [
    {
      "cell_type": "code",
      "execution_count": 1,
      "metadata": {
        "id": "37_siOwFCFp3"
      },
      "outputs": [],
      "source": [
        "import torch\n",
        "from torch import nn\n",
        "import matplotlib.pyplot as plt"
      ]
    },
    {
      "cell_type": "code",
      "source": [
        "torch.__version__"
      ],
      "metadata": {
        "colab": {
          "base_uri": "https://localhost:8080/",
          "height": 35
        },
        "id": "tekHCRjICJ16",
        "outputId": "daa6ff4d-bb64-4346-e0d4-1ae31f692026"
      },
      "execution_count": 2,
      "outputs": [
        {
          "output_type": "execute_result",
          "data": {
            "text/plain": [
              "'2.1.0+cu118'"
            ],
            "application/vnd.google.colaboratory.intrinsic+json": {
              "type": "string"
            }
          },
          "metadata": {},
          "execution_count": 2
        }
      ]
    },
    {
      "cell_type": "markdown",
      "source": [
        "# Data"
      ],
      "metadata": {
        "id": "QjPY6xCTDMBh"
      }
    },
    {
      "cell_type": "code",
      "source": [
        "weight=0.7\n",
        "bias=0.3\n",
        "start=0\n",
        "end=1\n",
        "step=0.02\n",
        "X=torch.arange(start,end,step).unsqueeze(dim=1)\n",
        "y=weight*X+bias\n",
        "X[: 10]"
      ],
      "metadata": {
        "colab": {
          "base_uri": "https://localhost:8080/"
        },
        "id": "qlkf-NhnCJ43",
        "outputId": "003d98f4-3009-4613-ab2e-73643f3aede6"
      },
      "execution_count": 3,
      "outputs": [
        {
          "output_type": "execute_result",
          "data": {
            "text/plain": [
              "tensor([[0.0000],\n",
              "        [0.0200],\n",
              "        [0.0400],\n",
              "        [0.0600],\n",
              "        [0.0800],\n",
              "        [0.1000],\n",
              "        [0.1200],\n",
              "        [0.1400],\n",
              "        [0.1600],\n",
              "        [0.1800]])"
            ]
          },
          "metadata": {},
          "execution_count": 3
        }
      ]
    },
    {
      "cell_type": "code",
      "source": [
        "y[: 10]"
      ],
      "metadata": {
        "colab": {
          "base_uri": "https://localhost:8080/"
        },
        "id": "ksf6l7ihCJ7n",
        "outputId": "4720ee94-4d57-47ee-d4d3-0f6be0eacf9a"
      },
      "execution_count": 4,
      "outputs": [
        {
          "output_type": "execute_result",
          "data": {
            "text/plain": [
              "tensor([[0.3000],\n",
              "        [0.3140],\n",
              "        [0.3280],\n",
              "        [0.3420],\n",
              "        [0.3560],\n",
              "        [0.3700],\n",
              "        [0.3840],\n",
              "        [0.3980],\n",
              "        [0.4120],\n",
              "        [0.4260]])"
            ]
          },
          "metadata": {},
          "execution_count": 4
        }
      ]
    },
    {
      "cell_type": "code",
      "source": [
        "len(X)"
      ],
      "metadata": {
        "colab": {
          "base_uri": "https://localhost:8080/"
        },
        "id": "0mf0GrbrCJ-f",
        "outputId": "c4dfd56a-615b-443e-b8aa-8b3b59e8c114"
      },
      "execution_count": 5,
      "outputs": [
        {
          "output_type": "execute_result",
          "data": {
            "text/plain": [
              "50"
            ]
          },
          "metadata": {},
          "execution_count": 5
        }
      ]
    },
    {
      "cell_type": "code",
      "source": [
        "len(y)"
      ],
      "metadata": {
        "colab": {
          "base_uri": "https://localhost:8080/"
        },
        "id": "5eW0jDHPCKBo",
        "outputId": "2286efeb-5f88-4132-95bd-ddc966b9c8d8"
      },
      "execution_count": 6,
      "outputs": [
        {
          "output_type": "execute_result",
          "data": {
            "text/plain": [
              "50"
            ]
          },
          "metadata": {},
          "execution_count": 6
        }
      ]
    },
    {
      "cell_type": "code",
      "source": [
        "train_split=int(0.8*len(X))\n",
        "x_train,y_train=X[:train_split],y[: train_split]\n",
        "x_test,y_test=X[train_split:],y[train_split :]"
      ],
      "metadata": {
        "id": "wS7zPMQtCKEb"
      },
      "execution_count": 7,
      "outputs": []
    },
    {
      "cell_type": "code",
      "source": [
        "len(x_train),len(x_test),len(y_train),len(y_test)"
      ],
      "metadata": {
        "colab": {
          "base_uri": "https://localhost:8080/"
        },
        "id": "3nQmpvtGCKHx",
        "outputId": "a865f7d1-5167-4d04-a0b1-0dcdbaf0bd30"
      },
      "execution_count": 8,
      "outputs": [
        {
          "output_type": "execute_result",
          "data": {
            "text/plain": [
              "(40, 10, 40, 10)"
            ]
          },
          "metadata": {},
          "execution_count": 8
        }
      ]
    },
    {
      "cell_type": "code",
      "source": [
        "def plot_predict(train=x_train,\n",
        "                 train_label=y_train,\n",
        "                 test_data=x_test,\n",
        "                 test_label=y_test,\n",
        "                 predictions=None):\n",
        "\n",
        "  plt.figure(figsize=(10,7))\n",
        "  plt.scatter(train,train_label,color=\"blue\",label=\"Train_data\")\n",
        "  plt.scatter(train,train_label,color=\"crimson\",label=\"Test_data\")\n",
        "\n",
        "  if predictions is not None:\n",
        "    plt.scatter(test_data,predictions,color=\"darkblue\",label=\"prediction\")\n",
        "\n",
        "  plt.legend()\n",
        "\n"
      ],
      "metadata": {
        "id": "e3f_52V3CKKM"
      },
      "execution_count": 9,
      "outputs": []
    },
    {
      "cell_type": "code",
      "source": [
        "plot_predict()"
      ],
      "metadata": {
        "colab": {
          "base_uri": "https://localhost:8080/",
          "height": 599
        },
        "id": "sXkYjtA0CKNe",
        "outputId": "b6d82dce-3358-4b88-cb22-db20b9064c82"
      },
      "execution_count": 10,
      "outputs": [
        {
          "output_type": "display_data",
          "data": {
            "text/plain": [
              "<Figure size 1000x700 with 1 Axes>"
            ],
            "image/png": "[encoded data removed]"
          },
          "metadata": {}
        }
      ]
    },
    {
      "cell_type": "markdown",
      "source": [
        "# create Model"
      ],
      "metadata": {
        "id": "SLwKrXeFPdzW"
      }
    },
    {
      "cell_type": "code",
      "source": [
        "class LinearRegressionModel(nn.Module):\n",
        "\n",
        "\n",
        "    def __init__(self):\n",
        "        super().__init__()\n",
        "        self.weight = nn.Parameter(torch.randn(1, requires_grad=True, dtype=torch.float))\n",
        "        self.bias = nn.Parameter(torch.randn(1, requires_grad=True, dtype=torch.float))\n",
        "\n",
        "    def forward(self, x: torch.Tensor) -> torch.Tensor:\n",
        "        return self.weight * x + self.bias\n",
        "\n"
      ],
      "metadata": {
        "id": "o7UA0dAXCKQU"
      },
      "execution_count": 11,
      "outputs": []
    },
    {
      "cell_type": "code",
      "source": [
        "torch.manual_seed(42)\n",
        "model_0=LinearRegressionModel()"
      ],
      "metadata": {
        "id": "dexcezglCKTZ"
      },
      "execution_count": 12,
      "outputs": []
    },
    {
      "cell_type": "code",
      "source": [
        "list(model_0.parameters())"
      ],
      "metadata": {
        "id": "A-hceGQfCKW4",
        "colab": {
          "base_uri": "https://localhost:8080/"
        },
        "outputId": "e0ef3587-adc9-43ef-8bb8-f3c53cb4d9b8"
      },
      "execution_count": 13,
      "outputs": [
        {
          "output_type": "execute_result",
          "data": {
            "text/plain": [
              "[Parameter containing:\n",
              " tensor([0.3367], requires_grad=True),\n",
              " Parameter containing:\n",
              " tensor([0.1288], requires_grad=True)]"
            ]
          },
          "metadata": {},
          "execution_count": 13
        }
      ]
    },
    {
      "cell_type": "code",
      "source": [
        "model_0.state_dict()"
      ],
      "metadata": {
        "id": "QI5ZliiDCKbW",
        "colab": {
          "base_uri": "https://localhost:8080/"
        },
        "outputId": "88d10014-8571-44f5-ba3e-c30061f9505c"
      },
      "execution_count": 14,
      "outputs": [
        {
          "output_type": "execute_result",
          "data": {
            "text/plain": [
              "OrderedDict([('weight', tensor([0.3367])), ('bias', tensor([0.1288]))])"
            ]
          },
          "metadata": {},
          "execution_count": 14
        }
      ]
    },
    {
      "cell_type": "code",
      "source": [
        "with torch.inference_mode():\n",
        "    pred = model_0(x_test)\n",
        "\n",
        "print(pred)"
      ],
      "metadata": {
        "id": "oR-NmpN5CKdo",
        "colab": {
          "base_uri": "https://localhost:8080/"
        },
        "outputId": "f73c045b-b304-4ce8-baf1-5e48660e6787"
      },
      "execution_count": 15,
      "outputs": [
        {
          "output_type": "stream",
          "name": "stdout",
          "text": [
            "tensor([[0.3982],\n",
            "        [0.4049],\n",
            "        [0.4116],\n",
            "        [0.4184],\n",
            "        [0.4251],\n",
            "        [0.4318],\n",
            "        [0.4386],\n",
            "        [0.4453],\n",
            "        [0.4520],\n",
            "        [0.4588]])\n"
          ]
        }
      ]
    },
    {
      "cell_type": "code",
      "source": [
        "plot_predict(predictions=pred)"
      ],
      "metadata": {
        "id": "drlJicfHCKm_",
        "colab": {
          "base_uri": "https://localhost:8080/",
          "height": 599
        },
        "outputId": "bcb19b0d-dd5c-4c59-f7f2-c1188828f8d7"
      },
      "execution_count": 16,
      "outputs": [
        {
          "output_type": "display_data",
          "data": {
            "text/plain": [
              "<Figure size 1000x700 with 1 Axes>"
            ],
            "image/png": "[encoded data removed]"
          },
          "metadata": {}
        }
      ]
    },
    {
      "cell_type": "code",
      "source": [
        "loss_0 = nn.L1Loss()\n",
        "optimizer=torch.optim.Adam(params=model_0.parameters(), lr=0.001)"
      ],
      "metadata": {
        "id": "X4B0jr2bCKqB"
      },
      "execution_count": 17,
      "outputs": []
    },
    {
      "cell_type": "code",
      "source": [
        "\n",
        "torch.manual_seed(42)\n",
        "epochs=1000\n",
        "for epoch in range(epochs):\n",
        "  model_0.train()\n",
        "  y_pred=model_0(x_train)\n",
        "  loss=loss_0(y_pred,y_train)\n",
        "  optimizer.zero_grad()\n",
        "  loss.backward()\n",
        "  optimizer.step()\n",
        "  model_0.eval()\n",
        "\n",
        "with torch.inference_mode():\n",
        "\n",
        "  predict=model_0(x_test)\n",
        "  test_loss=loss_0(predict,y_test)\n",
        "\n",
        "if epochs%10==0:\n",
        "\n",
        "  print(f\"Epoch: {epochs} | Loss : {loss} | Test Loss {test_loss}\")\n"
      ],
      "metadata": {
        "id": "Knd9yMgcCKta",
        "colab": {
          "base_uri": "https://localhost:8080/"
        },
        "outputId": "9df625c8-3729-4a87-a938-272676ee740d"
      },
      "execution_count": 18,
      "outputs": [
        {
          "output_type": "stream",
          "name": "stdout",
          "text": [
            "Epoch: 1000 | Loss : 0.00010414719872642308 | Test Loss 0.0003022432210855186\n"
          ]
        }
      ]
    },
    {
      "cell_type": "code",
      "source": [
        "model_0.state_dict()"
      ],
      "metadata": {
        "colab": {
          "base_uri": "https://localhost:8080/"
        },
        "id": "MJBszUvr1h-w",
        "outputId": "79d43582-651c-417b-d812-23a4aa196dc2"
      },
      "execution_count": 19,
      "outputs": [
        {
          "output_type": "execute_result",
          "data": {
            "text/plain": [
              "OrderedDict([('weight', tensor([0.6999])), ('bias', tensor([0.2998]))])"
            ]
          },
          "metadata": {},
          "execution_count": 19
        }
      ]
    },
    {
      "cell_type": "code",
      "source": [
        "loss"
      ],
      "metadata": {
        "colab": {
          "base_uri": "https://localhost:8080/"
        },
        "id": "jfi2ZcO_1h0C",
        "outputId": "fb19178c-92a2-4919-8aa4-a5a3dc3e3482"
      },
      "execution_count": 20,
      "outputs": [
        {
          "output_type": "execute_result",
          "data": {
            "text/plain": [
              "tensor(0.0001, grad_fn=<MeanBackward0>)"
            ]
          },
          "metadata": {},
          "execution_count": 20
        }
      ]
    },
    {
      "cell_type": "code",
      "source": [
        "with torch.inference_mode():\n",
        "  new=model_0(x_test)\n"
      ],
      "metadata": {
        "id": "xkLV5q7Y1hmU"
      },
      "execution_count": 21,
      "outputs": []
    },
    {
      "cell_type": "code",
      "source": [
        "plot_predict(predictions=new)"
      ],
      "metadata": {
        "colab": {
          "base_uri": "https://localhost:8080/",
          "height": 599
        },
        "id": "Vv47dDaw1hi4",
        "outputId": "67598be9-ca3c-4538-e404-7bbe78e295c9"
      },
      "execution_count": 22,
      "outputs": [
        {
          "output_type": "display_data",
          "data": {
            "text/plain": [
              "<Figure size 1000x700 with 1 Axes>"
            ],
            "image/png": "[encoded data removed]"
          },
          "metadata": {}
        }
      ]
    },
    {
      "cell_type": "code",
      "source": [
        "print(weight)\n",
        "print(\"==========================\")\n",
        "print(bias)"
      ],
      "metadata": {
        "colab": {
          "base_uri": "https://localhost:8080/"
        },
        "id": "nUzrVEiu1hgC",
        "outputId": "ddfd9b7f-e564-4d89-aa59-e2784d331b64"
      },
      "execution_count": 23,
      "outputs": [
        {
          "output_type": "stream",
          "name": "stdout",
          "text": [
            "0.7\n",
            "==========================\n",
            "0.3\n"
          ]
        }
      ]
    },
    {
      "cell_type": "code",
      "source": [
        "from pathlib import Path\n",
        "model_path=Path(\"models\")\n",
        "model_path.mkdir(parents=True,exist_ok=True)\n",
        "model_name=\"new_model.pth\"\n",
        "model_save_path=model_path/model_name\n",
        "print(f\"saving models to : {model_save_path}\")\n",
        "torch.save(obj=model_0.state_dict(),f=model_save_path)"
      ],
      "metadata": {
        "id": "y2Ojk-LRUixT",
        "colab": {
          "base_uri": "https://localhost:8080/"
        },
        "outputId": "749c17be-b3f9-4cfa-f6f8-8b10465a855a"
      },
      "execution_count": 24,
      "outputs": [
        {
          "output_type": "stream",
          "name": "stdout",
          "text": [
            "saving models to : models/new_model.pth\n"
          ]
        }
      ]
    },
    {
      "cell_type": "code",
      "source": [
        "!ls -l models"
      ],
      "metadata": {
        "id": "tlMx7Jw9Uit_",
        "colab": {
          "base_uri": "https://localhost:8080/"
        },
        "outputId": "a4a83dd2-44bf-4e54-a3c4-35135c2d70c2"
      },
      "execution_count": 25,
      "outputs": [
        {
          "output_type": "stream",
          "name": "stdout",
          "text": [
            "total 4\n",
            "-rw-r--r-- 1 root root 1508 Nov  5 15:22 new_model.pth\n"
          ]
        }
      ]
    },
    {
      "cell_type": "code",
      "source": [
        "load_model=LinearRegressionModel()\n",
        "load_model.load_state_dict(torch.load(f=model_save_path))"
      ],
      "metadata": {
        "id": "TbxtOKxpUiqp",
        "colab": {
          "base_uri": "https://localhost:8080/"
        },
        "outputId": "914b4c97-87e1-4f9a-9518-2585970b8328"
      },
      "execution_count": 26,
      "outputs": [
        {
          "output_type": "execute_result",
          "data": {
            "text/plain": [
              "<All keys matched successfully>"
            ]
          },
          "metadata": {},
          "execution_count": 26
        }
      ]
    },
    {
      "cell_type": "code",
      "source": [
        "load_model.state_dict()"
      ],
      "metadata": {
        "id": "bf0XY3uDUine",
        "colab": {
          "base_uri": "https://localhost:8080/"
        },
        "outputId": "6f4b0590-dacc-442c-bbf2-72eef365e8d3"
      },
      "execution_count": 27,
      "outputs": [
        {
          "output_type": "execute_result",
          "data": {
            "text/plain": [
              "OrderedDict([('weight', tensor([0.6999])), ('bias', tensor([0.2998]))])"
            ]
          },
          "metadata": {},
          "execution_count": 27
        }
      ]
    },
    {
      "cell_type": "code",
      "source": [
        "load_model.eval()\n",
        "with torch.inference_mode():\n",
        "  load_model0=load_model(x_test)\n",
        "load_model0"
      ],
      "metadata": {
        "id": "vz5vHCRH1hdM",
        "colab": {
          "base_uri": "https://localhost:8080/"
        },
        "outputId": "68af662b-716f-4b7a-d5fb-02c4502466df"
      },
      "execution_count": 28,
      "outputs": [
        {
          "output_type": "execute_result",
          "data": {
            "text/plain": [
              "tensor([[0.8597],\n",
              "        [0.8737],\n",
              "        [0.8877],\n",
              "        [0.9017],\n",
              "        [0.9157],\n",
              "        [0.9297],\n",
              "        [0.9437],\n",
              "        [0.9577],\n",
              "        [0.9717],\n",
              "        [0.9857]])"
            ]
          },
          "metadata": {},
          "execution_count": 28
        }
      ]
    },
    {
      "cell_type": "code",
      "source": [
        "y_pred"
      ],
      "metadata": {
        "colab": {
          "base_uri": "https://localhost:8080/"
        },
        "id": "Z9zt_0USI6_M",
        "outputId": "3d88c671-1cd0-4711-ac5d-f43ee5d2ccea"
      },
      "execution_count": 29,
      "outputs": [
        {
          "output_type": "execute_result",
          "data": {
            "text/plain": [
              "tensor([[0.3001],\n",
              "        [0.3141],\n",
              "        [0.3281],\n",
              "        [0.3421],\n",
              "        [0.3561],\n",
              "        [0.3701],\n",
              "        [0.3841],\n",
              "        [0.3981],\n",
              "        [0.4121],\n",
              "        [0.4261],\n",
              "        [0.4401],\n",
              "        [0.4541],\n",
              "        [0.4681],\n",
              "        [0.4821],\n",
              "        [0.4961],\n",
              "        [0.5101],\n",
              "        [0.5241],\n",
              "        [0.5381],\n",
              "        [0.5521],\n",
              "        [0.5661],\n",
              "        [0.5801],\n",
              "        [0.5941],\n",
              "        [0.6081],\n",
              "        [0.6221],\n",
              "        [0.6361],\n",
              "        [0.6501],\n",
              "        [0.6641],\n",
              "        [0.6781],\n",
              "        [0.6921],\n",
              "        [0.7061],\n",
              "        [0.7201],\n",
              "        [0.7341],\n",
              "        [0.7481],\n",
              "        [0.7621],\n",
              "        [0.7761],\n",
              "        [0.7901],\n",
              "        [0.8041],\n",
              "        [0.8181],\n",
              "        [0.8322],\n",
              "        [0.8462]], grad_fn=<AddBackward0>)"
            ]
          },
          "metadata": {},
          "execution_count": 29
        }
      ]
    },
    {
      "cell_type": "markdown",
      "source": [
        "# Data"
      ],
      "metadata": {
        "id": "fxusiF5bKBy8"
      }
    },
    {
      "cell_type": "code",
      "source": [
        "weight=0.7\n",
        "bias=0.4\n",
        "start=0\n",
        "end=1\n",
        "step=0.02\n",
        "x=torch.arange(start,end,step)\n",
        "y=weight*x+bias\n"
      ],
      "metadata": {
        "id": "9nnsoCKxIlgi"
      },
      "execution_count": 30,
      "outputs": []
    },
    {
      "cell_type": "code",
      "source": [
        "x[: 10],y[: 10]"
      ],
      "metadata": {
        "colab": {
          "base_uri": "https://localhost:8080/"
        },
        "id": "d_9vSV36Ilc_",
        "outputId": "956843e4-7ff3-4de9-c41d-30a7e1770738"
      },
      "execution_count": 31,
      "outputs": [
        {
          "output_type": "execute_result",
          "data": {
            "text/plain": [
              "(tensor([0.0000, 0.0200, 0.0400, 0.0600, 0.0800, 0.1000, 0.1200, 0.1400, 0.1600,\n",
              "         0.1800]),\n",
              " tensor([0.4000, 0.4140, 0.4280, 0.4420, 0.4560, 0.4700, 0.4840, 0.4980, 0.5120,\n",
              "         0.5260]))"
            ]
          },
          "metadata": {},
          "execution_count": 31
        }
      ]
    },
    {
      "cell_type": "code",
      "source": [
        "train_split=int(0.8*len(x))\n",
        "x_train,y_train=x[: train_split],y[:train_split]\n",
        "x_test,y_test=x[train_split:],y[train_split :]"
      ],
      "metadata": {
        "id": "jACcX2GSKv9X"
      },
      "execution_count": 32,
      "outputs": []
    },
    {
      "cell_type": "code",
      "source": [
        "len(x_test),len(x_train),len(y_train),len(y_test)"
      ],
      "metadata": {
        "colab": {
          "base_uri": "https://localhost:8080/"
        },
        "id": "QEV2JvO-Kv6E",
        "outputId": "3a1d7fdf-72a9-4da8-87e9-6d01423e4083"
      },
      "execution_count": 33,
      "outputs": [
        {
          "output_type": "execute_result",
          "data": {
            "text/plain": [
              "(10, 40, 40, 10)"
            ]
          },
          "metadata": {},
          "execution_count": 33
        }
      ]
    },
    {
      "cell_type": "code",
      "source": [
        "plot_predict(x_train,y_train,x_test,y_test)"
      ],
      "metadata": {
        "colab": {
          "base_uri": "https://localhost:8080/",
          "height": 599
        },
        "id": "wgQfwUSLKv24",
        "outputId": "684cc99c-6b2d-4de5-e94e-4291761c61c7"
      },
      "execution_count": 34,
      "outputs": [
        {
          "output_type": "display_data",
          "data": {
            "text/plain": [
              "<Figure size 1000x700 with 1 Axes>"
            ],
            "image/png": "[encoded data removed]"
          },
          "metadata": {}
        }
      ]
    },
    {
      "cell_type": "markdown",
      "source": [
        "# Create Model"
      ],
      "metadata": {
        "id": "GEaS91Iqaljw"
      }
    },
    {
      "cell_type": "code",
      "source": [
        "class LinearRegressionModelV2(nn.Module):\n",
        "  def __init__(self):\n",
        "    super().__init__()\n",
        "\n",
        "    self.linear_layer=nn.Linear(in_features=1,out_features=1)\n",
        "\n",
        "  def forward(self,x:torch.Tensor)->torch.Tensor:\n",
        "\n",
        "    return self.linear_layer(x)\n",
        "\n",
        "torch.manual_seed(42)\n",
        "model_1=LinearRegressionModelV2()"
      ],
      "metadata": {
        "id": "7iQpKdsMKvz2"
      },
      "execution_count": 35,
      "outputs": []
    },
    {
      "cell_type": "code",
      "source": [
        "model_1.state_dict()"
      ],
      "metadata": {
        "id": "JE8kMJO7Kvr4",
        "colab": {
          "base_uri": "https://localhost:8080/"
        },
        "outputId": "4d85680a-3a6e-4358-dc67-7764dc1502c3"
      },
      "execution_count": 36,
      "outputs": [
        {
          "output_type": "execute_result",
          "data": {
            "text/plain": [
              "OrderedDict([('linear_layer.weight', tensor([[0.7645]])),\n",
              "             ('linear_layer.bias', tensor([0.8300]))])"
            ]
          },
          "metadata": {},
          "execution_count": 36
        }
      ]
    },
    {
      "cell_type": "code",
      "source": [
        "batch_size = 64  # Replace with the actual batch size\n",
        "x_train = torch.randn((batch_size, 1))\n",
        "x_test = torch.randn((batch_size, 1))"
      ],
      "metadata": {
        "id": "8ibY_EuRjDnB"
      },
      "execution_count": 37,
      "outputs": []
    },
    {
      "cell_type": "code",
      "source": [
        "device = torch.device(\"cuda:0\" if torch.cuda.is_available() else \"cpu\")\n",
        "model_1.to(device)\n",
        "next(model_1.parameters()).device"
      ],
      "metadata": {
        "id": "OQNndMJCKvob",
        "colab": {
          "base_uri": "https://localhost:8080/"
        },
        "outputId": "f87775a7-d584-47cd-bc92-982cfd3efdf5"
      },
      "execution_count": 38,
      "outputs": [
        {
          "output_type": "execute_result",
          "data": {
            "text/plain": [
              "device(type='cpu')"
            ]
          },
          "metadata": {},
          "execution_count": 38
        }
      ]
    },
    {
      "cell_type": "markdown",
      "source": [
        "# for training we need :\n",
        "\n",
        "**loss function**\n",
        "\n",
        "**optimizer**\n",
        "\n",
        "**training loop**\n",
        "\n",
        "**testing loop**"
      ],
      "metadata": {
        "id": "ejCuBJm5fEIy"
      }
    },
    {
      "cell_type": "code",
      "source": [
        "loss_fn=nn.L1Loss()\n",
        "optimizer=torch.optim.SGD(params=model_1.parameters(),lr=0.01)"
      ],
      "metadata": {
        "id": "mjAXsPnzKvlb"
      },
      "execution_count": 39,
      "outputs": []
    },
    {
      "cell_type": "code",
      "source": [
        "torch.manual_seed(42)\n",
        "epochs=100\n",
        "\n",
        "x_train=x_train.to(device)\n",
        "y_train=y_train.to(device)\n",
        "x_test=x_test.to(device)\n",
        "y_test=y_test.to(device)\n",
        "\n",
        "for epoch in range(epochs):\n",
        "  model_1.train()\n",
        "  y_pred=model_1(x_train)\n",
        "\n",
        "  #calculate loss\n",
        "  loss=loss_fn(y_pred,y_train)\n",
        "\n",
        "  #optimizer zero_grad\n",
        "\n",
        "  optimizer.zero_grad()\n",
        "# perform back propagation\n",
        "  loss.backward()\n",
        "\n",
        "  #optimizer step\n",
        "\n",
        "  optimizer.step()\n",
        "\n",
        "  #Testing\n",
        "\n",
        "  model_1.eval()\n",
        "\n",
        "  with torch.inference_mode():\n",
        "    test_pred=model_1(x_test)\n",
        "\n",
        "    test_loss=loss_fn(test_pred,y_test)\n",
        "\n",
        "    if epoch%10==0:\n",
        "      print(f\"Epoch : {epoch} | Loss: {loss} | Test loss : {test_loss}\")\n"
      ],
      "metadata": {
        "colab": {
          "base_uri": "https://localhost:8080/"
        },
        "id": "dtSehutvf1K2",
        "outputId": "3d01c018-ad92-48f2-e90c-f1eac078de80"
      },
      "execution_count": 40,
      "outputs": [
        {
          "output_type": "stream",
          "name": "stdout",
          "text": [
            "Epoch : 0 | Loss: 0.6125005483627319 | Test loss : 0.4887825548648834\n",
            "Epoch : 10 | Loss: 0.554649293422699 | Test loss : 0.4389096200466156\n",
            "Epoch : 20 | Loss: 0.49816542863845825 | Test loss : 0.3904222846031189\n",
            "Epoch : 30 | Loss: 0.44319677352905273 | Test loss : 0.3443278670310974\n",
            "Epoch : 40 | Loss: 0.3905448317527771 | Test loss : 0.30303895473480225\n",
            "Epoch : 50 | Loss: 0.3407367467880249 | Test loss : 0.2707385718822479\n",
            "Epoch : 60 | Loss: 0.2939513027667999 | Test loss : 0.25048500299453735\n",
            "Epoch : 70 | Loss: 0.2507752776145935 | Test loss : 0.24233071506023407\n",
            "Epoch : 80 | Loss: 0.2135818749666214 | Test loss : 0.24791619181632996\n",
            "Epoch : 90 | Loss: 0.18465909361839294 | Test loss : 0.26430952548980713\n"
          ]
        },
        {
          "output_type": "stream",
          "name": "stderr",
          "text": [
            "/usr/local/lib/python3.10/dist-packages/torch/nn/modules/loss.py:101: UserWarning: Using a target size (torch.Size([40])) that is different to the input size (torch.Size([64, 1])). This will likely lead to incorrect results due to broadcasting. Please ensure they have the same size.\n",
            "  return F.l1_loss(input, target, reduction=self.reduction)\n",
            "/usr/local/lib/python3.10/dist-packages/torch/nn/modules/loss.py:101: UserWarning: Using a target size (torch.Size([10])) that is different to the input size (torch.Size([64, 1])). This will likely lead to incorrect results due to broadcasting. Please ensure they have the same size.\n",
            "  return F.l1_loss(input, target, reduction=self.reduction)\n"
          ]
        }
      ]
    },
    {
      "cell_type": "code",
      "source": [
        "model_1.state_dict()"
      ],
      "metadata": {
        "colab": {
          "base_uri": "https://localhost:8080/"
        },
        "id": "liVlZKvajNAj",
        "outputId": "80a6447c-0106-4767-f2d4-87487476a513"
      },
      "execution_count": 41,
      "outputs": [
        {
          "output_type": "execute_result",
          "data": {
            "text/plain": [
              "OrderedDict([('linear_layer.weight', tensor([[0.1149]])),\n",
              "             ('linear_layer.bias', tensor([0.7210]))])"
            ]
          },
          "metadata": {},
          "execution_count": 41
        }
      ]
    },
    {
      "cell_type": "code",
      "source": [
        "model_1.eval()\n",
        "with torch.inference_mode():\n",
        "  y_preds=model_1(x_test)\n",
        "y_preds"
      ],
      "metadata": {
        "id": "rtmvTBvIjMu2",
        "colab": {
          "base_uri": "https://localhost:8080/"
        },
        "outputId": "c635d7ea-2286-4553-f90d-60da2300e366"
      },
      "execution_count": 42,
      "outputs": [
        {
          "output_type": "execute_result",
          "data": {
            "text/plain": [
              "tensor([[0.9758],\n",
              "        [0.7811],\n",
              "        [0.7608],\n",
              "        [0.6983],\n",
              "        [0.5998],\n",
              "        [0.8678],\n",
              "        [0.7377],\n",
              "        [0.7475],\n",
              "        [0.7275],\n",
              "        [0.7699],\n",
              "        [0.7870],\n",
              "        [0.6473],\n",
              "        [0.4675],\n",
              "        [0.6347],\n",
              "        [1.0442],\n",
              "        [0.7623],\n",
              "        [0.5670],\n",
              "        [0.6537],\n",
              "        [0.7826],\n",
              "        [0.7812],\n",
              "        [0.8521],\n",
              "        [0.7269],\n",
              "        [0.8046],\n",
              "        [0.6394],\n",
              "        [0.6004],\n",
              "        [0.7903],\n",
              "        [0.5231],\n",
              "        [0.6259],\n",
              "        [0.8743],\n",
              "        [0.7765],\n",
              "        [0.6983],\n",
              "        [0.8667],\n",
              "        [0.8111],\n",
              "        [0.7243],\n",
              "        [0.7946],\n",
              "        [0.7880],\n",
              "        [0.8435],\n",
              "        [0.6693],\n",
              "        [0.6430],\n",
              "        [0.7869],\n",
              "        [0.7675],\n",
              "        [0.7415],\n",
              "        [0.7514],\n",
              "        [0.8672],\n",
              "        [0.7208],\n",
              "        [0.6861],\n",
              "        [0.6077],\n",
              "        [0.7351],\n",
              "        [0.6522],\n",
              "        [0.7758],\n",
              "        [0.8044],\n",
              "        [0.7314],\n",
              "        [0.6763],\n",
              "        [0.7816],\n",
              "        [0.8394],\n",
              "        [0.6400],\n",
              "        [0.7362],\n",
              "        [0.8088],\n",
              "        [0.8468],\n",
              "        [0.7600],\n",
              "        [0.8037],\n",
              "        [0.7682],\n",
              "        [0.6551],\n",
              "        [0.7792]])"
            ]
          },
          "metadata": {},
          "execution_count": 42
        }
      ]
    },
    {
      "cell_type": "code",
      "source": [],
      "metadata": {
        "id": "8D-ssI66FYA2"
      },
      "execution_count": null,
      "outputs": []
    },
    {
      "cell_type": "code",
      "source": [],
      "metadata": {
        "id": "aLU53mfjFX9-"
      },
      "execution_count": null,
      "outputs": []
    },
    {
      "cell_type": "code",
      "source": [],
      "metadata": {
        "id": "n1SReIiMFX6Q"
      },
      "execution_count": null,
      "outputs": []
    },
    {
      "cell_type": "code",
      "source": [],
      "metadata": {
        "id": "RTeBMS15FX0y"
      },
      "execution_count": null,
      "outputs": []
    }
  ]
}