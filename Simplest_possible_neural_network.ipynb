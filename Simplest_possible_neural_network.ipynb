{
  "nbformat": 4,
  "nbformat_minor": 0,
  "metadata": {
    "colab": {
      "provenance": []
    },
    "kernelspec": {
      "name": "python3",
      "display_name": "Python 3"
    },
    "language_info": {
      "name": "python"
    }
  },
  "cells": [
    {
      "cell_type": "code",
      "source": [
        "import torch\n",
        "import numpy as np"
      ],
      "metadata": {
        "id": "rz2TBugf1kw2"
      },
      "execution_count": 1,
      "outputs": []
    },
    {
      "cell_type": "code",
      "execution_count": 2,
      "metadata": {
        "id": "m9X8XZu91Rix"
      },
      "outputs": [],
      "source": [
        "x=[x for x in range(11)]\n",
        "y=[1.6*x +4+np.random.normal(10,1) for x in x]"
      ]
    },
    {
      "cell_type": "code",
      "source": [
        "print(x)"
      ],
      "metadata": {
        "colab": {
          "base_uri": "https://localhost:8080/"
        },
        "id": "TuxVrC9f1T_6",
        "outputId": "eb45ad01-9874-4fef-c8cd-9fef99b39d6a"
      },
      "execution_count": 3,
      "outputs": [
        {
          "output_type": "stream",
          "name": "stdout",
          "text": [
            "[0, 1, 2, 3, 4, 5, 6, 7, 8, 9, 10]\n"
          ]
        }
      ]
    },
    {
      "cell_type": "code",
      "source": [
        "print(y)"
      ],
      "metadata": {
        "colab": {
          "base_uri": "https://localhost:8080/"
        },
        "id": "bFoa2hQ91UDY",
        "outputId": "b55187ad-8eac-4ac7-fe37-256d90289f14"
      },
      "execution_count": 4,
      "outputs": [
        {
          "output_type": "stream",
          "name": "stdout",
          "text": [
            "[13.925467980122956, 16.058088339739413, 18.266340451890276, 18.512608990550017, 18.17477916591235, 21.355169289695166, 22.33008456588228, 26.09492620166479, 27.117804905485027, 27.93745966007431, 30.656806768125293]\n"
          ]
        }
      ]
    },
    {
      "cell_type": "code",
      "source": [
        "x_train=x[: 9]\n",
        "y_train=y[:9]\n",
        "x_val=x[9:]\n",
        "y_val=y[9:]"
      ],
      "metadata": {
        "id": "SU_3HluJ1UGT"
      },
      "execution_count": 5,
      "outputs": []
    },
    {
      "cell_type": "code",
      "source": [
        "print(f\"train data: {x_train}\\nTest Data :{x_val}\")"
      ],
      "metadata": {
        "colab": {
          "base_uri": "https://localhost:8080/"
        },
        "id": "Wq7nPHXP1UJi",
        "outputId": "c01d91ec-3813-4939-d6ad-a3125e0cfbaa"
      },
      "execution_count": 6,
      "outputs": [
        {
          "output_type": "stream",
          "name": "stdout",
          "text": [
            "train data: [0, 1, 2, 3, 4, 5, 6, 7, 8]\n",
            "Test Data :[9, 10]\n"
          ]
        }
      ]
    },
    {
      "cell_type": "code",
      "source": [
        "x_train = torch.tensor(x[:9], dtype=torch.float32).view(-1, 1)  # Reshape to (batch_size, 1)\n",
        "y_train = torch.tensor(y[:9], dtype=torch.float32)\n",
        "x_val = torch.tensor(x[9:], dtype=torch.float32).view(-1, 1)  # Reshape to (batch_size, 1)\n",
        "y_val = torch.tensor(y[9:], dtype=torch.float32)"
      ],
      "metadata": {
        "id": "PcfHLU1zC3Np"
      },
      "execution_count": 7,
      "outputs": []
    },
    {
      "cell_type": "code",
      "source": [
        "x_train"
      ],
      "metadata": {
        "colab": {
          "base_uri": "https://localhost:8080/"
        },
        "id": "YzRLED1FE8mo",
        "outputId": "dcb76948-5ff9-4911-ce66-32bec6ecd8a9"
      },
      "execution_count": 8,
      "outputs": [
        {
          "output_type": "execute_result",
          "data": {
            "text/plain": [
              "tensor([[0.],\n",
              "        [1.],\n",
              "        [2.],\n",
              "        [3.],\n",
              "        [4.],\n",
              "        [5.],\n",
              "        [6.],\n",
              "        [7.],\n",
              "        [8.]])"
            ]
          },
          "metadata": {},
          "execution_count": 8
        }
      ]
    },
    {
      "cell_type": "code",
      "source": [
        "x_val"
      ],
      "metadata": {
        "colab": {
          "base_uri": "https://localhost:8080/"
        },
        "id": "gWMJ7zlCFnph",
        "outputId": "713884f6-a80c-490d-b03d-cb48d0771c1d"
      },
      "execution_count": 9,
      "outputs": [
        {
          "output_type": "execute_result",
          "data": {
            "text/plain": [
              "tensor([[ 9.],\n",
              "        [10.]])"
            ]
          },
          "metadata": {},
          "execution_count": 9
        }
      ]
    },
    {
      "cell_type": "code",
      "source": [
        "y_train"
      ],
      "metadata": {
        "colab": {
          "base_uri": "https://localhost:8080/"
        },
        "id": "YMsYCMspF96Z",
        "outputId": "bba975a6-e0ef-44f7-eafc-b9350f8b9dc8"
      },
      "execution_count": 10,
      "outputs": [
        {
          "output_type": "execute_result",
          "data": {
            "text/plain": [
              "tensor([13.9255, 16.0581, 18.2663, 18.5126, 18.1748, 21.3552, 22.3301, 26.0949,\n",
              "        27.1178])"
            ]
          },
          "metadata": {},
          "execution_count": 10
        }
      ]
    },
    {
      "cell_type": "code",
      "source": [
        "y_val"
      ],
      "metadata": {
        "colab": {
          "base_uri": "https://localhost:8080/"
        },
        "id": "HxAiUWWnGAGv",
        "outputId": "0e3504a4-a70f-476f-bc6e-36179c3dc9a6"
      },
      "execution_count": 11,
      "outputs": [
        {
          "output_type": "execute_result",
          "data": {
            "text/plain": [
              "tensor([27.9375, 30.6568])"
            ]
          },
          "metadata": {},
          "execution_count": 11
        }
      ]
    },
    {
      "cell_type": "code",
      "source": [
        "import torch.nn as nn\n",
        "seq_model=nn.Sequential(nn.Linear(1,13),\n",
        "                        nn.Tanh(),\n",
        "                        nn.Linear(13,1))\n",
        "seq_model"
      ],
      "metadata": {
        "colab": {
          "base_uri": "https://localhost:8080/"
        },
        "id": "oZXx1vdU1UM-",
        "outputId": "9cf37d7e-714a-4848-ae7e-558bbbb8d2bd"
      },
      "execution_count": 12,
      "outputs": [
        {
          "output_type": "execute_result",
          "data": {
            "text/plain": [
              "Sequential(\n",
              "  (0): Linear(in_features=1, out_features=13, bias=True)\n",
              "  (1): Tanh()\n",
              "  (2): Linear(in_features=13, out_features=1, bias=True)\n",
              ")"
            ]
          },
          "metadata": {},
          "execution_count": 12
        }
      ]
    },
    {
      "cell_type": "code",
      "source": [
        "def train_loop(n_epochs,optimizer,model,loss_fn,x_train,x_val,y_train,y_val):\n",
        "  for epoch in range(1,n_epochs+1):\n",
        "    output_train=model(x_train)\n",
        "    loss_train=loss_fn(output_train,y_train)\n",
        "    output_val=model(x_val)\n",
        "    loss_val=loss_fn(output_val,y_val)\n",
        "\n",
        "    optimizer.zero_grad()\n",
        "    loss_train.backward()\n",
        "    optimizer.step()\n",
        "\n",
        "    if epoch==1 or epoch %10000==0:\n",
        "      print(f\"Epoch  {epoch} | Training Loss:{loss_train.item():.4f} | \"f\"validation loss {loss_val.item():.4f}\")"
      ],
      "metadata": {
        "id": "MKk6xQj41URO"
      },
      "execution_count": 13,
      "outputs": []
    },
    {
      "cell_type": "code",
      "source": [
        "import torch.optim as optim\n",
        "optimizer = optim.Adam(seq_model.parameters(), lr=1e-3)\n",
        "train_loop(n_epochs = 50000,optimizer = optimizer,\n",
        "    model = seq_model,\n",
        "    loss_fn = nn.MSELoss(),\n",
        "    x_train = x_train,\n",
        "    x_val = x_val,\n",
        "    y_train = y_train,\n",
        "    y_val = y_val)"
      ],
      "metadata": {
        "colab": {
          "base_uri": "https://localhost:8080/"
        },
        "id": "og_rcRZL1UUl",
        "outputId": "8d053aaa-f9e9-4d48-c26f-0d063aa7ca79"
      },
      "execution_count": 14,
      "outputs": [
        {
          "output_type": "stream",
          "name": "stderr",
          "text": [
            "/usr/local/lib/python3.10/dist-packages/torch/nn/modules/loss.py:535: UserWarning: Using a target size (torch.Size([9])) that is different to the input size (torch.Size([9, 1])). This will likely lead to incorrect results due to broadcasting. Please ensure they have the same size.\n",
            "  return F.mse_loss(input, target, reduction=self.reduction)\n",
            "/usr/local/lib/python3.10/dist-packages/torch/nn/modules/loss.py:535: UserWarning: Using a target size (torch.Size([2])) that is different to the input size (torch.Size([2, 1])). This will likely lead to incorrect results due to broadcasting. Please ensure they have the same size.\n",
            "  return F.mse_loss(input, target, reduction=self.reduction)\n"
          ]
        },
        {
          "output_type": "stream",
          "name": "stdout",
          "text": [
            "Epoch  1 | Training Loss:402.5070 | validation loss 822.9568\n",
            "Epoch  10000 | Training Loss:17.3061 | validation loss 83.8352\n",
            "Epoch  20000 | Training Loss:17.2990 | validation loss 84.4685\n",
            "Epoch  30000 | Training Loss:17.2990 | validation loss 84.5457\n",
            "Epoch  40000 | Training Loss:17.2990 | validation loss 84.5364\n",
            "Epoch  50000 | Training Loss:17.2990 | validation loss 84.5358\n"
          ]
        }
      ]
    },
    {
      "cell_type": "code",
      "source": [
        "seq_model.state_dict()"
      ],
      "metadata": {
        "id": "9PVfbZpL1UYB",
        "colab": {
          "base_uri": "https://localhost:8080/"
        },
        "outputId": "d6bd427e-381f-428c-d2b6-00671302e568"
      },
      "execution_count": 15,
      "outputs": [
        {
          "output_type": "execute_result",
          "data": {
            "text/plain": [
              "OrderedDict([('0.weight',\n",
              "              tensor([[-7.2871e-01],\n",
              "                      [ 1.3317e+00],\n",
              "                      [ 1.0345e-03],\n",
              "                      [ 8.8633e-01],\n",
              "                      [-1.0778e-03],\n",
              "                      [ 2.4665e-03],\n",
              "                      [ 2.4120e-04],\n",
              "                      [ 1.0523e-03],\n",
              "                      [-3.5554e-04],\n",
              "                      [-7.7214e-01],\n",
              "                      [-8.2886e-01],\n",
              "                      [-7.6281e-01],\n",
              "                      [-8.1325e-01]])),\n",
              "             ('0.bias',\n",
              "              tensor([-6.2485,  6.0860, -3.4983,  5.9897,  4.8811,  5.2397, -5.7917, -4.6159,\n",
              "                       5.5393, -6.4952, -6.2752, -5.9500, -6.2209])),\n",
              "             ('2.weight',\n",
              "              tensor([[-1.0769,  1.2081, -1.6470,  1.5609,  1.4363,  1.5642, -1.4225, -1.5555,\n",
              "                        1.5768, -1.4511, -1.4495, -1.5266, -1.5471]])),\n",
              "             ('2.bias', tensor([1.1851]))])"
            ]
          },
          "metadata": {},
          "execution_count": 15
        }
      ]
    },
    {
      "cell_type": "code",
      "source": [
        "import torch\n",
        "import torch.nn as nn\n",
        "import torch.optim as optim\n",
        "import numpy as np\n",
        "\n",
        "# Generate data\n",
        "X = [x for x in range(11)]\n",
        "y = [1.6 * x + 4 + np.random.normal(10, 1) for x in X]\n",
        "\n",
        "X_train = torch.tensor(X[:9], dtype=torch.float32).view(-1, 1)  # Reshape to (batch_size, 1)\n",
        "y_train = torch.tensor(y[:9], dtype=torch.float32)\n",
        "X_val = torch.tensor(X[9:], dtype=torch.float32).view(-1, 1)  # Reshape to (batch_size, 1)\n",
        "y_val = torch.tensor(y[9:], dtype=torch.float32)\n",
        "\n",
        "# Define the neural network model\n",
        "seq_model = nn.Sequential(\n",
        "    nn.Linear(1, 13),\n",
        "    nn.Tanh(),\n",
        "    nn.Linear(13, 1))\n",
        "\n",
        "# Training loop\n",
        "def training_loop(n_epochs, optimizer, model, loss_fn, X_train, X_val, y_train, y_val):\n",
        "    for epoch in range(1, n_epochs + 1):\n",
        "        output_train = model(X_train)  # Forward pass\n",
        "        loss_train = loss_fn(output_train, y_train)  # Calculate loss\n",
        "        output_val = model(X_val)\n",
        "        loss_val = loss_fn(output_val, y_val)\n",
        "\n",
        "        optimizer.zero_grad()  # Set gradients to zero\n",
        "        loss_train.backward()  # Backward pass\n",
        "        optimizer.step()  # Update model parameters\n",
        "\n",
        "        if epoch == 1 or epoch % 10000 == 0:\n",
        "            print(f\"Epoch {epoch}, Training loss {loss_train.item():.4f},\"f\" Validation loss {loss_val.item():.4f}\")\n",
        "\n",
        "# Define the optimizer\n",
        "optimizer = optim.SGD(seq_model.parameters(), lr=1e-3)\n",
        "\n",
        "# Train the model\n",
        "training_loop(\n",
        "    n_epochs=500000,\n",
        "    optimizer=optimizer,\n",
        "    model=seq_model,\n",
        "    loss_fn=nn.MSELoss(),\n",
        "    X_train=X_train,\n",
        "    X_val=X_val,\n",
        "    y_train=y_train,\n",
        "    y_val=y_val)\n"
      ],
      "metadata": {
        "id": "w7V3aakU1Ubn",
        "colab": {
          "base_uri": "https://localhost:8080/"
        },
        "outputId": "bf5e5b5e-d1e3-4f16-f3e7-b7cee122ddc9"
      },
      "execution_count": null,
      "outputs": [
        {
          "output_type": "stream",
          "name": "stdout",
          "text": [
            "Epoch 1, Training loss 461.8124, Validation loss 896.8600\n",
            "Epoch 10000, Training loss 17.2231, Validation loss 84.7394\n",
            "Epoch 20000, Training loss 17.1920, Validation loss 83.1007\n",
            "Epoch 30000, Training loss 17.1786, Validation loss 81.9968\n",
            "Epoch 40000, Training loss 17.1723, Validation loss 81.0810\n",
            "Epoch 50000, Training loss 17.1707, Validation loss 80.5349\n",
            "Epoch 60000, Training loss 17.1705, Validation loss 80.3056\n",
            "Epoch 70000, Training loss 17.1705, Validation loss 80.2210\n",
            "Epoch 80000, Training loss 17.1705, Validation loss 80.1919\n",
            "Epoch 90000, Training loss 17.1705, Validation loss 80.1791\n",
            "Epoch 100000, Training loss 17.1705, Validation loss 80.1720\n",
            "Epoch 110000, Training loss 17.1705, Validation loss 80.1661\n",
            "Epoch 120000, Training loss 17.1705, Validation loss 80.1614\n",
            "Epoch 130000, Training loss 17.1705, Validation loss 80.1571\n",
            "Epoch 140000, Training loss 17.1705, Validation loss 80.1527\n",
            "Epoch 150000, Training loss 17.1705, Validation loss 80.1484\n"
          ]
        }
      ]
    },
    {
      "cell_type": "code",
      "source": [],
      "metadata": {
        "id": "c3QcELMvCJxK"
      },
      "execution_count": null,
      "outputs": []
    },
    {
      "cell_type": "code",
      "source": [],
      "metadata": {
        "id": "ZRnTtP17CJtz"
      },
      "execution_count": null,
      "outputs": []
    }
  ]
}