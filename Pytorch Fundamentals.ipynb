{
  "nbformat": 4,
  "nbformat_minor": 0,
  "metadata": {
    "colab": {
      "provenance": [],
      "gpuType": "T4"
    },
    "kernelspec": {
      "name": "python3",
      "display_name": "Python 3"
    },
    "language_info": {
      "name": "python"
    },
    "accelerator": "GPU"
  },
  "cells": [
    {
      "cell_type": "code",
      "execution_count": 1,
      "metadata": {
        "colab": {
          "base_uri": "https://localhost:8080/"
        },
        "id": "7RAH4KHoF2yU",
        "outputId": "2e9d61b1-dd2c-4570-bf4b-37e09644a056"
      },
      "outputs": [
        {
          "output_type": "stream",
          "name": "stdout",
          "text": [
            "2.1.0+cu118\n"
          ]
        }
      ],
      "source": [
        "import torch\n",
        "print(torch.__version__)"
      ]
    },
    {
      "cell_type": "markdown",
      "source": [
        "# Creating Tensor"
      ],
      "metadata": {
        "id": "uG8QINfwHvlJ"
      }
    },
    {
      "cell_type": "code",
      "source": [
        "scala=torch.tensor(7)\n",
        "scala"
      ],
      "metadata": {
        "colab": {
          "base_uri": "https://localhost:8080/"
        },
        "id": "VygFZrcaF-tE",
        "outputId": "538ad607-2a5d-4e89-a683-22beff098a7e"
      },
      "execution_count": 2,
      "outputs": [
        {
          "output_type": "execute_result",
          "data": {
            "text/plain": [
              "tensor(7)"
            ]
          },
          "metadata": {},
          "execution_count": 2
        }
      ]
    },
    {
      "cell_type": "code",
      "source": [
        "scala.ndim"
      ],
      "metadata": {
        "colab": {
          "base_uri": "https://localhost:8080/"
        },
        "id": "_1REkvq_F-vz",
        "outputId": "b87df823-a0a6-468a-9c74-d2ecce97ac29"
      },
      "execution_count": 3,
      "outputs": [
        {
          "output_type": "execute_result",
          "data": {
            "text/plain": [
              "0"
            ]
          },
          "metadata": {},
          "execution_count": 3
        }
      ]
    },
    {
      "cell_type": "code",
      "source": [
        "scala.item()"
      ],
      "metadata": {
        "colab": {
          "base_uri": "https://localhost:8080/"
        },
        "id": "0Mf8AWLxF-y1",
        "outputId": "2d68693d-adb3-4325-9c69-6931e7038a61"
      },
      "execution_count": 4,
      "outputs": [
        {
          "output_type": "execute_result",
          "data": {
            "text/plain": [
              "7"
            ]
          },
          "metadata": {},
          "execution_count": 4
        }
      ]
    },
    {
      "cell_type": "markdown",
      "source": [
        "# vector\n"
      ],
      "metadata": {
        "id": "PQMpokW2Ir6e"
      }
    },
    {
      "cell_type": "code",
      "source": [
        "vec=torch.tensor([4,4])\n",
        "vec"
      ],
      "metadata": {
        "colab": {
          "base_uri": "https://localhost:8080/"
        },
        "id": "zh3qLbi8F-1d",
        "outputId": "1a18cada-ccd5-4fb9-cfed-3cce650718fa"
      },
      "execution_count": 5,
      "outputs": [
        {
          "output_type": "execute_result",
          "data": {
            "text/plain": [
              "tensor([4, 4])"
            ]
          },
          "metadata": {},
          "execution_count": 5
        }
      ]
    },
    {
      "cell_type": "code",
      "source": [
        "vec.ndim"
      ],
      "metadata": {
        "colab": {
          "base_uri": "https://localhost:8080/"
        },
        "id": "h0y_Q2jFF-4y",
        "outputId": "f095aa38-be26-4d47-b7b9-b93c33d51eb8"
      },
      "execution_count": 6,
      "outputs": [
        {
          "output_type": "execute_result",
          "data": {
            "text/plain": [
              "1"
            ]
          },
          "metadata": {},
          "execution_count": 6
        }
      ]
    },
    {
      "cell_type": "code",
      "source": [
        "vec.shape"
      ],
      "metadata": {
        "colab": {
          "base_uri": "https://localhost:8080/"
        },
        "id": "1d6d97lMI6sz",
        "outputId": "391221f9-e432-42a9-89d9-344a4e77af41"
      },
      "execution_count": 7,
      "outputs": [
        {
          "output_type": "execute_result",
          "data": {
            "text/plain": [
              "torch.Size([2])"
            ]
          },
          "metadata": {},
          "execution_count": 7
        }
      ]
    },
    {
      "cell_type": "code",
      "source": [
        "matrix=torch.tensor([[4,6],\n",
        "                     [20,10]])\n",
        "matrix"
      ],
      "metadata": {
        "colab": {
          "base_uri": "https://localhost:8080/"
        },
        "id": "BhHZoFg6I6pf",
        "outputId": "36cea407-d85c-4b1f-fa5f-93b3eefc7b64"
      },
      "execution_count": 8,
      "outputs": [
        {
          "output_type": "execute_result",
          "data": {
            "text/plain": [
              "tensor([[ 4,  6],\n",
              "        [20, 10]])"
            ]
          },
          "metadata": {},
          "execution_count": 8
        }
      ]
    },
    {
      "cell_type": "code",
      "source": [
        "matrix.ndim\n",
        "print(\"Matrix shape :\",matrix.shape)"
      ],
      "metadata": {
        "colab": {
          "base_uri": "https://localhost:8080/"
        },
        "id": "pMwwuRaiI6mi",
        "outputId": "2a20095f-edfe-40c9-f1ee-108daadc37ee"
      },
      "execution_count": 9,
      "outputs": [
        {
          "output_type": "stream",
          "name": "stdout",
          "text": [
            "Matrix shape : torch.Size([2, 2])\n"
          ]
        }
      ]
    },
    {
      "cell_type": "code",
      "source": [
        "three_matrix=torch.tensor([[[8,2,3],\n",
        "                            [4,5,6],\n",
        "                            [7,8,9]]])\n",
        "print(\"Dimension :\",three_matrix.ndim)\n",
        "print(\"shape :\",three_matrix.shape)"
      ],
      "metadata": {
        "colab": {
          "base_uri": "https://localhost:8080/"
        },
        "id": "LjyBMeo8I6jp",
        "outputId": "4578a859-a295-4450-c085-971ca7e2f8ad"
      },
      "execution_count": 10,
      "outputs": [
        {
          "output_type": "stream",
          "name": "stdout",
          "text": [
            "Dimension : 3\n",
            "shape : torch.Size([1, 3, 3])\n"
          ]
        }
      ]
    },
    {
      "cell_type": "markdown",
      "source": [
        "# Random Tensor"
      ],
      "metadata": {
        "id": "-0bHqsNvSp4z"
      }
    },
    {
      "cell_type": "code",
      "source": [
        "randm=torch.rand(3,4) # 3 rows 4 cols\n",
        "randm"
      ],
      "metadata": {
        "colab": {
          "base_uri": "https://localhost:8080/"
        },
        "id": "XVOfQ2uePXrz",
        "outputId": "db2a0296-7e27-4d49-f4e3-0fe9401fbfef"
      },
      "execution_count": 11,
      "outputs": [
        {
          "output_type": "execute_result",
          "data": {
            "text/plain": [
              "tensor([[0.9532, 0.8115, 0.9481, 0.8183],\n",
              "        [0.9318, 0.8767, 0.2978, 0.9471],\n",
              "        [0.0038, 0.9850, 0.2370, 0.8957]])"
            ]
          },
          "metadata": {},
          "execution_count": 11
        }
      ]
    },
    {
      "cell_type": "code",
      "source": [
        "randm=torch.rand(2,3,4) # 3 rows 4 cols\n",
        "randm"
      ],
      "metadata": {
        "colab": {
          "base_uri": "https://localhost:8080/"
        },
        "id": "mmqqPPH6PXFV",
        "outputId": "98295847-adfa-4a93-e5a4-58f48cf71430"
      },
      "execution_count": 12,
      "outputs": [
        {
          "output_type": "execute_result",
          "data": {
            "text/plain": [
              "tensor([[[0.4743, 0.0965, 0.5561, 0.3574],\n",
              "         [0.7160, 0.1509, 0.5248, 0.0952],\n",
              "         [0.1026, 0.7838, 0.7357, 0.9383]],\n",
              "\n",
              "        [[0.9386, 0.8883, 0.7070, 0.4968],\n",
              "         [0.9342, 0.2043, 0.1228, 0.4588],\n",
              "         [0.8331, 0.8553, 0.9865, 0.9896]]])"
            ]
          },
          "metadata": {},
          "execution_count": 12
        }
      ]
    },
    {
      "cell_type": "code",
      "source": [
        "randm.ndim"
      ],
      "metadata": {
        "colab": {
          "base_uri": "https://localhost:8080/"
        },
        "id": "j_IEHpcwPXCo",
        "outputId": "a848232f-18a2-48de-e477-0ac1638af26c"
      },
      "execution_count": 13,
      "outputs": [
        {
          "output_type": "execute_result",
          "data": {
            "text/plain": [
              "3"
            ]
          },
          "metadata": {},
          "execution_count": 13
        }
      ]
    },
    {
      "cell_type": "code",
      "source": [
        "image_tensor=torch.rand(size=(224,224,3)) #height,#width,# color_channel"
      ],
      "metadata": {
        "id": "Vy4Slhy4PW_Y"
      },
      "execution_count": 14,
      "outputs": []
    },
    {
      "cell_type": "code",
      "source": [
        "image_tensor.shape"
      ],
      "metadata": {
        "colab": {
          "base_uri": "https://localhost:8080/"
        },
        "id": "udNk0v7tPW8v",
        "outputId": "f34b5231-1dbc-4e9d-868f-cbfad319d97b"
      },
      "execution_count": 15,
      "outputs": [
        {
          "output_type": "execute_result",
          "data": {
            "text/plain": [
              "torch.Size([224, 224, 3])"
            ]
          },
          "metadata": {},
          "execution_count": 15
        }
      ]
    },
    {
      "cell_type": "code",
      "source": [
        "image_tensor.ndim"
      ],
      "metadata": {
        "colab": {
          "base_uri": "https://localhost:8080/"
        },
        "id": "hoCN-laSPW5j",
        "outputId": "ff6dc9b6-9867-45dc-e0ec-7808c3591e56"
      },
      "execution_count": 16,
      "outputs": [
        {
          "output_type": "execute_result",
          "data": {
            "text/plain": [
              "3"
            ]
          },
          "metadata": {},
          "execution_count": 16
        }
      ]
    },
    {
      "cell_type": "code",
      "source": [
        "# Zeros and Ones\n",
        "zeros=torch.zeros(size=(5,5))\n",
        "print(zeros)"
      ],
      "metadata": {
        "colab": {
          "base_uri": "https://localhost:8080/"
        },
        "id": "sOfLpYXZPWtD",
        "outputId": "3898a530-077b-4850-de2a-ef427c8deee3"
      },
      "execution_count": 17,
      "outputs": [
        {
          "output_type": "stream",
          "name": "stdout",
          "text": [
            "tensor([[0., 0., 0., 0., 0.],\n",
            "        [0., 0., 0., 0., 0.],\n",
            "        [0., 0., 0., 0., 0.],\n",
            "        [0., 0., 0., 0., 0.],\n",
            "        [0., 0., 0., 0., 0.]])\n"
          ]
        }
      ]
    },
    {
      "cell_type": "code",
      "source": [
        "ones=torch.ones(size=(4,5))\n",
        "print(ones)"
      ],
      "metadata": {
        "colab": {
          "base_uri": "https://localhost:8080/"
        },
        "id": "sYVzUskTVAa1",
        "outputId": "14edffd9-ac47-4308-d3b5-e20c2be77940"
      },
      "execution_count": 18,
      "outputs": [
        {
          "output_type": "stream",
          "name": "stdout",
          "text": [
            "tensor([[1., 1., 1., 1., 1.],\n",
            "        [1., 1., 1., 1., 1.],\n",
            "        [1., 1., 1., 1., 1.],\n",
            "        [1., 1., 1., 1., 1.]])\n"
          ]
        }
      ]
    },
    {
      "cell_type": "code",
      "source": [
        "ones.dtype"
      ],
      "metadata": {
        "colab": {
          "base_uri": "https://localhost:8080/"
        },
        "id": "6uDKeoHCVAl_",
        "outputId": "13a06a32-20d0-4e45-cb92-f70b2ae455e9"
      },
      "execution_count": 19,
      "outputs": [
        {
          "output_type": "execute_result",
          "data": {
            "text/plain": [
              "torch.float32"
            ]
          },
          "metadata": {},
          "execution_count": 19
        }
      ]
    },
    {
      "cell_type": "markdown",
      "source": [
        "# Creating range"
      ],
      "metadata": {
        "id": "BbdjRrLBVmi-"
      }
    },
    {
      "cell_type": "code",
      "source": [
        "torch.arange(1,10)"
      ],
      "metadata": {
        "colab": {
          "base_uri": "https://localhost:8080/"
        },
        "id": "2PCKcZYKVAo4",
        "outputId": "1b4d609e-600f-4b77-bf4d-61420c41e326"
      },
      "execution_count": 20,
      "outputs": [
        {
          "output_type": "execute_result",
          "data": {
            "text/plain": [
              "tensor([1, 2, 3, 4, 5, 6, 7, 8, 9])"
            ]
          },
          "metadata": {},
          "execution_count": 20
        }
      ]
    },
    {
      "cell_type": "code",
      "source": [
        "x=torch.arange(start=1,end=22,step=2)\n",
        "print(x)"
      ],
      "metadata": {
        "colab": {
          "base_uri": "https://localhost:8080/"
        },
        "id": "lOsMFIEXVAsP",
        "outputId": "a2fad957-8b3c-4f88-d76f-2725dddf608a"
      },
      "execution_count": 21,
      "outputs": [
        {
          "output_type": "stream",
          "name": "stdout",
          "text": [
            "tensor([ 1,  3,  5,  7,  9, 11, 13, 15, 17, 19, 21])\n"
          ]
        }
      ]
    },
    {
      "cell_type": "code",
      "source": [
        "y=torch.zeros_like(input=x)\n",
        "print(y)"
      ],
      "metadata": {
        "colab": {
          "base_uri": "https://localhost:8080/"
        },
        "id": "HULH5qRnVAvJ",
        "outputId": "c100239f-85b8-4196-b4fb-6a3b7e3a15d5"
      },
      "execution_count": 22,
      "outputs": [
        {
          "output_type": "stream",
          "name": "stdout",
          "text": [
            "tensor([0, 0, 0, 0, 0, 0, 0, 0, 0, 0, 0])\n"
          ]
        }
      ]
    },
    {
      "cell_type": "code",
      "source": [
        "m=torch.tensor([1.0,3.8,5.7],dtype=torch.float32,device=None,requires_grad=False)\n",
        "m.dtype"
      ],
      "metadata": {
        "id": "jMky-xMEVAx_",
        "colab": {
          "base_uri": "https://localhost:8080/"
        },
        "outputId": "9621c9bc-3ee2-48bf-b441-5eb51264c177"
      },
      "execution_count": 23,
      "outputs": [
        {
          "output_type": "execute_result",
          "data": {
            "text/plain": [
              "torch.float32"
            ]
          },
          "metadata": {},
          "execution_count": 23
        }
      ]
    },
    {
      "cell_type": "code",
      "source": [
        "m.type(torch.float16)"
      ],
      "metadata": {
        "id": "Uc88i_JWaqGc",
        "colab": {
          "base_uri": "https://localhost:8080/"
        },
        "outputId": "55cdfd12-979c-4a3e-9e1d-3293044fa59c"
      },
      "execution_count": 24,
      "outputs": [
        {
          "output_type": "execute_result",
          "data": {
            "text/plain": [
              "tensor([1.0000, 3.8008, 5.6992], dtype=torch.float16)"
            ]
          },
          "metadata": {},
          "execution_count": 24
        }
      ]
    },
    {
      "cell_type": "code",
      "source": [
        "  n=m.type(torch.float16)"
      ],
      "metadata": {
        "id": "2pWhY5JcaqJb"
      },
      "execution_count": 25,
      "outputs": []
    },
    {
      "cell_type": "code",
      "source": [
        "c=m*n\n",
        "print(c)"
      ],
      "metadata": {
        "id": "hiRcDKP3aqMV",
        "colab": {
          "base_uri": "https://localhost:8080/"
        },
        "outputId": "bf9ec415-4251-43f2-c65d-ff60060fd2bc"
      },
      "execution_count": 26,
      "outputs": [
        {
          "output_type": "stream",
          "name": "stdout",
          "text": [
            "tensor([ 1.0000, 14.4430, 32.4855])\n"
          ]
        }
      ]
    },
    {
      "cell_type": "code",
      "source": [
        "x=torch.tensor([4,5,6],dtype=torch.int32)"
      ],
      "metadata": {
        "id": "sc702-q6aqPX"
      },
      "execution_count": 27,
      "outputs": []
    },
    {
      "cell_type": "code",
      "source": [
        "y=m*x\n",
        "print(y)"
      ],
      "metadata": {
        "id": "p4ONcd1caqSh",
        "colab": {
          "base_uri": "https://localhost:8080/"
        },
        "outputId": "bcad1f6b-bb9a-47f1-db09-a3904b4d93ab"
      },
      "execution_count": 28,
      "outputs": [
        {
          "output_type": "stream",
          "name": "stdout",
          "text": [
            "tensor([ 4.0000, 19.0000, 34.2000])\n"
          ]
        }
      ]
    },
    {
      "cell_type": "code",
      "source": [
        "my_tensor=torch.rand(3,4)\n",
        "my_tensor"
      ],
      "metadata": {
        "id": "nS5fsBtLaqVo",
        "colab": {
          "base_uri": "https://localhost:8080/"
        },
        "outputId": "38b66edb-5306-4682-a716-a4654937129f"
      },
      "execution_count": 29,
      "outputs": [
        {
          "output_type": "execute_result",
          "data": {
            "text/plain": [
              "tensor([[0.8665, 0.0640, 0.6643, 0.8921],\n",
              "        [0.4785, 0.6269, 0.1937, 0.1630],\n",
              "        [0.9273, 0.2742, 0.1196, 0.5456]])"
            ]
          },
          "metadata": {},
          "execution_count": 29
        }
      ]
    },
    {
      "cell_type": "code",
      "source": [
        "print(f\"Data type of tensor : {my_tensor.dtype}\")\n",
        "print(my_tensor.shape)\n",
        "print(my_tensor.device)"
      ],
      "metadata": {
        "id": "gFZAKlFfaqZi",
        "colab": {
          "base_uri": "https://localhost:8080/"
        },
        "outputId": "09a8081e-661c-44a2-b544-eb184b59193f"
      },
      "execution_count": 30,
      "outputs": [
        {
          "output_type": "stream",
          "name": "stdout",
          "text": [
            "Data type of tensor : torch.float32\n",
            "torch.Size([3, 4])\n",
            "cpu\n"
          ]
        }
      ]
    },
    {
      "cell_type": "code",
      "source": [
        "# manupulating tensor\n",
        "\n",
        "\n",
        "first = torch.tensor([3, 4, 5])\n",
        "v = first + 10\n",
        "print(v)\n"
      ],
      "metadata": {
        "id": "h3UMwSAfaqcw",
        "colab": {
          "base_uri": "https://localhost:8080/"
        },
        "outputId": "039ad3df-1029-405f-f16a-6ec16cb6d44b"
      },
      "execution_count": 31,
      "outputs": [
        {
          "output_type": "stream",
          "name": "stdout",
          "text": [
            "tensor([13, 14, 15])\n"
          ]
        }
      ]
    },
    {
      "cell_type": "code",
      "source": [
        "sec=v-first\n",
        "print(sec)"
      ],
      "metadata": {
        "id": "kSSdzQ9baqgV",
        "colab": {
          "base_uri": "https://localhost:8080/"
        },
        "outputId": "7594cbcd-d44e-4ae9-cbfd-b05ff83cf979"
      },
      "execution_count": 32,
      "outputs": [
        {
          "output_type": "stream",
          "name": "stdout",
          "text": [
            "tensor([10, 10, 10])\n"
          ]
        }
      ]
    },
    {
      "cell_type": "code",
      "source": [
        "a=torch.tensor([2,3,4,5])\n",
        "b=torch.mul(a,10)\n",
        "print(\"Answer :\",b)"
      ],
      "metadata": {
        "id": "1VkNiSW7aqj4",
        "colab": {
          "base_uri": "https://localhost:8080/"
        },
        "outputId": "0df973b5-dc44-4a54-e6c4-cb358b678164"
      },
      "execution_count": 33,
      "outputs": [
        {
          "output_type": "stream",
          "name": "stdout",
          "text": [
            "Answer : tensor([20, 30, 40, 50])\n"
          ]
        }
      ]
    },
    {
      "cell_type": "code",
      "source": [
        "# matrix multiplication\n",
        "v=b*b\n",
        "print(v)"
      ],
      "metadata": {
        "id": "NtKrKMsOaqtc",
        "colab": {
          "base_uri": "https://localhost:8080/"
        },
        "outputId": "6cecde61-1e2e-477c-b437-4cc098b3222f"
      },
      "execution_count": 34,
      "outputs": [
        {
          "output_type": "stream",
          "name": "stdout",
          "text": [
            "tensor([ 400,  900, 1600, 2500])\n"
          ]
        }
      ]
    },
    {
      "cell_type": "code",
      "source": [
        "%%time\n",
        "torch.matmul(b,b)"
      ],
      "metadata": {
        "id": "43QAmEFAaqwg",
        "colab": {
          "base_uri": "https://localhost:8080/"
        },
        "outputId": "4c61d121-a775-4fe7-c8af-4fbac45f2bb0"
      },
      "execution_count": 35,
      "outputs": [
        {
          "output_type": "stream",
          "name": "stdout",
          "text": [
            "CPU times: user 151 µs, sys: 31 µs, total: 182 µs\n",
            "Wall time: 306 µs\n"
          ]
        },
        {
          "output_type": "execute_result",
          "data": {
            "text/plain": [
              "tensor(5400)"
            ]
          },
          "metadata": {},
          "execution_count": 35
        }
      ]
    },
    {
      "cell_type": "code",
      "source": [
        "%%time\n",
        "value=0\n",
        "for i in range(len(b)):\n",
        "  value+=b[i]*b[i]\n",
        "print(value)"
      ],
      "metadata": {
        "id": "XJcRtl-yaqzb",
        "colab": {
          "base_uri": "https://localhost:8080/"
        },
        "outputId": "7b8e5875-d068-42c6-e5b6-2ec4c0d2ac0f"
      },
      "execution_count": 36,
      "outputs": [
        {
          "output_type": "stream",
          "name": "stdout",
          "text": [
            "tensor(5400)\n",
            "CPU times: user 454 µs, sys: 0 ns, total: 454 µs\n",
            "Wall time: 499 µs\n"
          ]
        }
      ]
    },
    {
      "cell_type": "code",
      "source": [
        "torch.matmul(torch.rand(6,4),torch.rand(4,4))"
      ],
      "metadata": {
        "id": "e8Lb1JtYaq2i",
        "colab": {
          "base_uri": "https://localhost:8080/"
        },
        "outputId": "93be27ed-8689-4ea0-a527-4de28b097acf"
      },
      "execution_count": 37,
      "outputs": [
        {
          "output_type": "execute_result",
          "data": {
            "text/plain": [
              "tensor([[1.1312, 1.4739, 1.6984, 0.7285],\n",
              "        [0.7248, 0.9691, 0.6496, 0.3832],\n",
              "        [0.1887, 0.2915, 0.3514, 0.2331],\n",
              "        [0.4727, 0.4242, 0.2700, 0.4149],\n",
              "        [1.6175, 1.4506, 1.5035, 1.1161],\n",
              "        [0.9537, 0.7514, 1.3719, 0.5706]])"
            ]
          },
          "metadata": {},
          "execution_count": 37
        }
      ]
    },
    {
      "cell_type": "markdown",
      "source": [
        "\n",
        "\n",
        "### number of columns in the first matrix must be equal to the number of rows in the second matrix\n",
        "\n",
        "\n"
      ],
      "metadata": {
        "id": "3MrC6QDXmc-A"
      }
    },
    {
      "cell_type": "code",
      "source": [
        "tensor_1=torch.tensor([[1,2,3,7],\n",
        "                       [4,5,6,8],\n",
        "                       [3,4,5,9]])\n",
        "\n",
        "tensor_2=torch.tensor([[1,2,3,4],\n",
        "                       [4,5,6,7],\n",
        "                       [3,4,5,6],\n",
        "                       [1,2,3,4]])"
      ],
      "metadata": {
        "id": "u1iVkr_Raq5f"
      },
      "execution_count": 38,
      "outputs": []
    },
    {
      "cell_type": "code",
      "source": [
        "print(\"tensor 1 shape :\",tensor_1.shape)\n",
        "print(\"tensor 2 shape :\",tensor_2.shape)"
      ],
      "metadata": {
        "colab": {
          "base_uri": "https://localhost:8080/"
        },
        "id": "c2g1JZcHbY4x",
        "outputId": "ac9c5138-5f65-42c6-e11c-5a19b77918d1"
      },
      "execution_count": 39,
      "outputs": [
        {
          "output_type": "stream",
          "name": "stdout",
          "text": [
            "tensor 1 shape : torch.Size([3, 4])\n",
            "tensor 2 shape : torch.Size([4, 4])\n"
          ]
        }
      ]
    },
    {
      "cell_type": "code",
      "source": [
        "c=torch.matmul(tensor_1,tensor_2)\n",
        "print(f\"Matrix Multplication: \\n\\n{c}\")"
      ],
      "metadata": {
        "id": "-H5Tb1VTaq8c",
        "colab": {
          "base_uri": "https://localhost:8080/"
        },
        "outputId": "315adecc-f42c-43c5-bd66-78c3b358a95a"
      },
      "execution_count": 40,
      "outputs": [
        {
          "output_type": "stream",
          "name": "stdout",
          "text": [
            "Matrix Multplication: \n",
            "\n",
            "tensor([[ 25,  38,  51,  64],\n",
            "        [ 50,  73,  96, 119],\n",
            "        [ 43,  64,  85, 106]])\n"
          ]
        }
      ]
    },
    {
      "cell_type": "code",
      "source": [
        "x=torch.arange(0,100,10,dtype=torch.float32)\n",
        "x"
      ],
      "metadata": {
        "id": "sJfViY3_aq_p",
        "colab": {
          "base_uri": "https://localhost:8080/"
        },
        "outputId": "82b8df08-9e89-4707-8d25-06d3218d02ce"
      },
      "execution_count": 41,
      "outputs": [
        {
          "output_type": "execute_result",
          "data": {
            "text/plain": [
              "tensor([ 0., 10., 20., 30., 40., 50., 60., 70., 80., 90.])"
            ]
          },
          "metadata": {},
          "execution_count": 41
        }
      ]
    },
    {
      "cell_type": "code",
      "source": [
        "v=torch.min(x)\n",
        "int(v)"
      ],
      "metadata": {
        "id": "ozQKV_lGarDU",
        "colab": {
          "base_uri": "https://localhost:8080/"
        },
        "outputId": "849849a0-12fc-472b-f929-93b533318d2b"
      },
      "execution_count": 42,
      "outputs": [
        {
          "output_type": "execute_result",
          "data": {
            "text/plain": [
              "0"
            ]
          },
          "metadata": {},
          "execution_count": 42
        }
      ]
    },
    {
      "cell_type": "code",
      "source": [
        "n=torch.max(x)\n",
        "int(n)"
      ],
      "metadata": {
        "id": "0lJAGVw9arGy",
        "colab": {
          "base_uri": "https://localhost:8080/"
        },
        "outputId": "0f3aa576-7d88-4ebf-e6eb-47da6e067e66"
      },
      "execution_count": 43,
      "outputs": [
        {
          "output_type": "execute_result",
          "data": {
            "text/plain": [
              "90"
            ]
          },
          "metadata": {},
          "execution_count": 43
        }
      ]
    },
    {
      "cell_type": "code",
      "source": [
        "torch.mean(x)"
      ],
      "metadata": {
        "id": "mCaeDIxiVA1B",
        "colab": {
          "base_uri": "https://localhost:8080/"
        },
        "outputId": "a67d6272-deb1-441f-b3b5-97951b241e61"
      },
      "execution_count": 44,
      "outputs": [
        {
          "output_type": "execute_result",
          "data": {
            "text/plain": [
              "tensor(45.)"
            ]
          },
          "metadata": {},
          "execution_count": 44
        }
      ]
    },
    {
      "cell_type": "code",
      "source": [
        "x.argmin()"
      ],
      "metadata": {
        "colab": {
          "base_uri": "https://localhost:8080/"
        },
        "id": "GgEepqt9uOK5",
        "outputId": "fae8e377-a1a5-4fc7-d57e-eba6f3967b41"
      },
      "execution_count": 45,
      "outputs": [
        {
          "output_type": "execute_result",
          "data": {
            "text/plain": [
              "tensor(0)"
            ]
          },
          "metadata": {},
          "execution_count": 45
        }
      ]
    },
    {
      "cell_type": "code",
      "source": [
        "x.argmax()"
      ],
      "metadata": {
        "colab": {
          "base_uri": "https://localhost:8080/"
        },
        "id": "QfQSGjMhuOY5",
        "outputId": "37415604-340b-4b24-a9fc-673d4ecc8922"
      },
      "execution_count": 46,
      "outputs": [
        {
          "output_type": "execute_result",
          "data": {
            "text/plain": [
              "tensor(9)"
            ]
          },
          "metadata": {},
          "execution_count": 46
        }
      ]
    },
    {
      "cell_type": "code",
      "source": [
        "a=torch.arange(1,10)\n",
        "a.shape"
      ],
      "metadata": {
        "colab": {
          "base_uri": "https://localhost:8080/"
        },
        "id": "WrBBbTSLuOcA",
        "outputId": "f3d5c8e0-4257-43f3-df10-89915fba58d5"
      },
      "execution_count": 47,
      "outputs": [
        {
          "output_type": "execute_result",
          "data": {
            "text/plain": [
              "torch.Size([9])"
            ]
          },
          "metadata": {},
          "execution_count": 47
        }
      ]
    },
    {
      "cell_type": "code",
      "source": [
        "a"
      ],
      "metadata": {
        "id": "v0yLnD3euOfl",
        "colab": {
          "base_uri": "https://localhost:8080/"
        },
        "outputId": "bb5bd94d-4910-4a31-a254-a981c7c65d86"
      },
      "execution_count": 48,
      "outputs": [
        {
          "output_type": "execute_result",
          "data": {
            "text/plain": [
              "tensor([1, 2, 3, 4, 5, 6, 7, 8, 9])"
            ]
          },
          "metadata": {},
          "execution_count": 48
        }
      ]
    },
    {
      "cell_type": "code",
      "source": [
        "a.reshape(1,9)"
      ],
      "metadata": {
        "id": "jlfOcpO-uOiU",
        "colab": {
          "base_uri": "https://localhost:8080/"
        },
        "outputId": "62782004-92e5-4234-c59a-a971dfa53325"
      },
      "execution_count": 49,
      "outputs": [
        {
          "output_type": "execute_result",
          "data": {
            "text/plain": [
              "tensor([[1, 2, 3, 4, 5, 6, 7, 8, 9]])"
            ]
          },
          "metadata": {},
          "execution_count": 49
        }
      ]
    },
    {
      "cell_type": "code",
      "source": [
        "a.reshape(9,1)"
      ],
      "metadata": {
        "id": "TvETTvHLuOlA",
        "colab": {
          "base_uri": "https://localhost:8080/"
        },
        "outputId": "a407f1d3-d5fd-4d94-8ee8-b73e7b810bf3"
      },
      "execution_count": 50,
      "outputs": [
        {
          "output_type": "execute_result",
          "data": {
            "text/plain": [
              "tensor([[1],\n",
              "        [2],\n",
              "        [3],\n",
              "        [4],\n",
              "        [5],\n",
              "        [6],\n",
              "        [7],\n",
              "        [8],\n",
              "        [9]])"
            ]
          },
          "metadata": {},
          "execution_count": 50
        }
      ]
    },
    {
      "cell_type": "code",
      "source": [
        "f=a.view(1,9)"
      ],
      "metadata": {
        "id": "Y8D-VzLAuOoE"
      },
      "execution_count": 51,
      "outputs": []
    },
    {
      "cell_type": "code",
      "source": [
        "# a.view(9,1)"
      ],
      "metadata": {
        "id": "KB-WG46yuOrI"
      },
      "execution_count": 52,
      "outputs": []
    },
    {
      "cell_type": "code",
      "source": [
        "f[:,0 : 4]=5\n"
      ],
      "metadata": {
        "id": "4FQ36zECuOuL"
      },
      "execution_count": 53,
      "outputs": []
    },
    {
      "cell_type": "code",
      "source": [
        "f"
      ],
      "metadata": {
        "id": "eQhKnUfxuOxf",
        "colab": {
          "base_uri": "https://localhost:8080/"
        },
        "outputId": "3ee563a4-17eb-45de-99af-3e925f859f44"
      },
      "execution_count": 54,
      "outputs": [
        {
          "output_type": "execute_result",
          "data": {
            "text/plain": [
              "tensor([[5, 5, 5, 5, 5, 6, 7, 8, 9]])"
            ]
          },
          "metadata": {},
          "execution_count": 54
        }
      ]
    },
    {
      "cell_type": "code",
      "source": [
        "st=torch.stack([a,a,a,a],dim=1)\n",
        "st"
      ],
      "metadata": {
        "id": "m6DpNEWIuO1W",
        "colab": {
          "base_uri": "https://localhost:8080/"
        },
        "outputId": "dc867f78-a1e1-44e5-a2a9-a119093e88a2"
      },
      "execution_count": 55,
      "outputs": [
        {
          "output_type": "execute_result",
          "data": {
            "text/plain": [
              "tensor([[5, 5, 5, 5],\n",
              "        [5, 5, 5, 5],\n",
              "        [5, 5, 5, 5],\n",
              "        [5, 5, 5, 5],\n",
              "        [5, 5, 5, 5],\n",
              "        [6, 6, 6, 6],\n",
              "        [7, 7, 7, 7],\n",
              "        [8, 8, 8, 8],\n",
              "        [9, 9, 9, 9]])"
            ]
          },
          "metadata": {},
          "execution_count": 55
        }
      ]
    },
    {
      "cell_type": "code",
      "source": [
        "c = torch.zeros(2, 1, 2, 1, 2)\n",
        "c.size()"
      ],
      "metadata": {
        "id": "uDuHN0FjuO4J",
        "colab": {
          "base_uri": "https://localhost:8080/"
        },
        "outputId": "8e80d4d1-8483-4924-ea18-b38e90757f5d"
      },
      "execution_count": 56,
      "outputs": [
        {
          "output_type": "execute_result",
          "data": {
            "text/plain": [
              "torch.Size([2, 1, 2, 1, 2])"
            ]
          },
          "metadata": {},
          "execution_count": 56
        }
      ]
    },
    {
      "cell_type": "code",
      "source": [
        "c"
      ],
      "metadata": {
        "colab": {
          "base_uri": "https://localhost:8080/"
        },
        "id": "4elecZTSs8fv",
        "outputId": "590f746c-8dee-475b-e61c-d1a17b13c65a"
      },
      "execution_count": 57,
      "outputs": [
        {
          "output_type": "execute_result",
          "data": {
            "text/plain": [
              "tensor([[[[[0., 0.]],\n",
              "\n",
              "          [[0., 0.]]]],\n",
              "\n",
              "\n",
              "\n",
              "        [[[[0., 0.]],\n",
              "\n",
              "          [[0., 0.]]]]])"
            ]
          },
          "metadata": {},
          "execution_count": 57
        }
      ]
    },
    {
      "cell_type": "code",
      "source": [
        "c.ndim"
      ],
      "metadata": {
        "colab": {
          "base_uri": "https://localhost:8080/"
        },
        "id": "xrrgC4OotgIp",
        "outputId": "3734a6b6-8210-4351-a789-44e1e4a05d38"
      },
      "execution_count": 58,
      "outputs": [
        {
          "output_type": "execute_result",
          "data": {
            "text/plain": [
              "5"
            ]
          },
          "metadata": {},
          "execution_count": 58
        }
      ]
    },
    {
      "cell_type": "code",
      "source": [
        "\n",
        "y = torch.squeeze(c)\n",
        "y"
      ],
      "metadata": {
        "id": "SG3olOzeuO7s",
        "colab": {
          "base_uri": "https://localhost:8080/"
        },
        "outputId": "1dcb7266-1a57-43d0-c575-af6e1a749142"
      },
      "execution_count": 59,
      "outputs": [
        {
          "output_type": "execute_result",
          "data": {
            "text/plain": [
              "tensor([[[0., 0.],\n",
              "         [0., 0.]],\n",
              "\n",
              "        [[0., 0.],\n",
              "         [0., 0.]]])"
            ]
          },
          "metadata": {},
          "execution_count": 59
        }
      ]
    },
    {
      "cell_type": "code",
      "source": [
        "d = torch.tensor([1, 2, 3, 4])\n",
        "d"
      ],
      "metadata": {
        "id": "W0Q-wSn9uO-1",
        "colab": {
          "base_uri": "https://localhost:8080/"
        },
        "outputId": "9a36d9d8-b40b-4888-e7cb-a115797e07c6"
      },
      "execution_count": 60,
      "outputs": [
        {
          "output_type": "execute_result",
          "data": {
            "text/plain": [
              "tensor([1, 2, 3, 4])"
            ]
          },
          "metadata": {},
          "execution_count": 60
        }
      ]
    },
    {
      "cell_type": "code",
      "source": [
        "torch.unsqueeze(d, 0)"
      ],
      "metadata": {
        "colab": {
          "base_uri": "https://localhost:8080/"
        },
        "id": "lhdWEWNXwumS",
        "outputId": "4aa3dc2f-93ce-44b1-ff2e-8bdc1925ae6b"
      },
      "execution_count": 61,
      "outputs": [
        {
          "output_type": "execute_result",
          "data": {
            "text/plain": [
              "tensor([[1, 2, 3, 4]])"
            ]
          },
          "metadata": {},
          "execution_count": 61
        }
      ]
    },
    {
      "cell_type": "code",
      "source": [
        "torch.unsqueeze(d, 1)"
      ],
      "metadata": {
        "colab": {
          "base_uri": "https://localhost:8080/"
        },
        "id": "yQYVelsUwyy9",
        "outputId": "9914fd63-6f27-4feb-de1b-77cfba63845c"
      },
      "execution_count": 62,
      "outputs": [
        {
          "output_type": "execute_result",
          "data": {
            "text/plain": [
              "tensor([[1],\n",
              "        [2],\n",
              "        [3],\n",
              "        [4]])"
            ]
          },
          "metadata": {},
          "execution_count": 62
        }
      ]
    },
    {
      "cell_type": "code",
      "source": [
        "e=torch.randn(2, 3, 5) #(blocks,rows,columns)\n",
        "e"
      ],
      "metadata": {
        "colab": {
          "base_uri": "https://localhost:8080/"
        },
        "id": "qpPEAoEEw-KU",
        "outputId": "d206f8f8-0e36-4919-fed6-30e5730f37fa"
      },
      "execution_count": 63,
      "outputs": [
        {
          "output_type": "execute_result",
          "data": {
            "text/plain": [
              "tensor([[[-0.8111, -1.5582,  0.6404,  0.2504,  0.3252],\n",
              "         [ 0.4698,  1.1988,  0.6387,  0.3831,  0.9341],\n",
              "         [-1.9337,  1.6648, -0.2270,  0.0536, -0.5865]],\n",
              "\n",
              "        [[ 1.0932,  1.2242, -0.4229,  0.4047,  2.6586],\n",
              "         [-2.1658, -0.4269,  1.6696,  1.0036,  2.1669],\n",
              "         [-0.1230,  2.2948, -0.0927,  0.7804,  2.2297]]])"
            ]
          },
          "metadata": {},
          "execution_count": 63
        }
      ]
    },
    {
      "cell_type": "code",
      "source": [
        "e.size()"
      ],
      "metadata": {
        "colab": {
          "base_uri": "https://localhost:8080/"
        },
        "id": "ZUVmWqOvw-kF",
        "outputId": "4ccdde9b-d97e-47bb-a436-76b3b24b9e75"
      },
      "execution_count": 64,
      "outputs": [
        {
          "output_type": "execute_result",
          "data": {
            "text/plain": [
              "torch.Size([2, 3, 5])"
            ]
          },
          "metadata": {},
          "execution_count": 64
        }
      ]
    },
    {
      "cell_type": "code",
      "source": [
        "torch.permute(e, (2, 0, 1))"
      ],
      "metadata": {
        "colab": {
          "base_uri": "https://localhost:8080/"
        },
        "id": "AEBm7Mcpw-nL",
        "outputId": "1568e0a3-8654-424c-cb57-4ba1e9821179"
      },
      "execution_count": 65,
      "outputs": [
        {
          "output_type": "execute_result",
          "data": {
            "text/plain": [
              "tensor([[[-0.8111,  0.4698, -1.9337],\n",
              "         [ 1.0932, -2.1658, -0.1230]],\n",
              "\n",
              "        [[-1.5582,  1.1988,  1.6648],\n",
              "         [ 1.2242, -0.4269,  2.2948]],\n",
              "\n",
              "        [[ 0.6404,  0.6387, -0.2270],\n",
              "         [-0.4229,  1.6696, -0.0927]],\n",
              "\n",
              "        [[ 0.2504,  0.3831,  0.0536],\n",
              "         [ 0.4047,  1.0036,  0.7804]],\n",
              "\n",
              "        [[ 0.3252,  0.9341, -0.5865],\n",
              "         [ 2.6586,  2.1669,  2.2297]]])"
            ]
          },
          "metadata": {},
          "execution_count": 65
        }
      ]
    },
    {
      "cell_type": "code",
      "source": [
        "f=torch.rand(size=(224,224,3))\n",
        "g=f.permute(2,0,1)\n",
        "g"
      ],
      "metadata": {
        "colab": {
          "base_uri": "https://localhost:8080/"
        },
        "id": "koZrFXcYw-qV",
        "outputId": "4eb67e33-61ef-46d2-a0c4-1bb03f9c20cb"
      },
      "execution_count": 66,
      "outputs": [
        {
          "output_type": "execute_result",
          "data": {
            "text/plain": [
              "tensor([[[0.5377, 0.0876, 0.3956,  ..., 0.1474, 0.2588, 0.8212],\n",
              "         [0.9722, 0.1285, 0.9618,  ..., 0.6675, 0.0391, 0.8996],\n",
              "         [0.7914, 0.1523, 0.1044,  ..., 0.5538, 0.1068, 0.9443],\n",
              "         ...,\n",
              "         [0.4701, 0.3527, 0.2430,  ..., 0.2585, 0.1835, 0.8602],\n",
              "         [0.3739, 0.4967, 0.7462,  ..., 0.0910, 0.0270, 0.2066],\n",
              "         [0.1931, 0.5949, 0.9016,  ..., 0.7362, 0.6381, 0.1358]],\n",
              "\n",
              "        [[0.7194, 0.7978, 0.1651,  ..., 0.9336, 0.0265, 0.5163],\n",
              "         [0.7302, 0.6907, 0.5152,  ..., 0.5010, 0.0229, 0.6700],\n",
              "         [0.6891, 0.9023, 0.0775,  ..., 0.7072, 0.3830, 0.9572],\n",
              "         ...,\n",
              "         [0.1692, 0.6077, 0.1746,  ..., 0.9678, 0.5252, 0.6272],\n",
              "         [0.9502, 0.3514, 0.8753,  ..., 0.8842, 0.8163, 0.0896],\n",
              "         [0.6217, 0.6860, 0.4653,  ..., 0.7693, 0.4489, 0.2432]],\n",
              "\n",
              "        [[0.2780, 0.8102, 0.1814,  ..., 0.2405, 0.8733, 0.3763],\n",
              "         [0.9831, 0.3123, 0.7852,  ..., 0.8234, 0.3826, 0.4307],\n",
              "         [0.5504, 0.2865, 0.9611,  ..., 0.9828, 0.8299, 0.3185],\n",
              "         ...,\n",
              "         [0.6210, 0.0287, 0.5281,  ..., 0.2914, 0.0526, 0.2156],\n",
              "         [0.0772, 0.0175, 0.8257,  ..., 0.0476, 0.1116, 0.6890],\n",
              "         [0.3060, 0.3134, 0.5779,  ..., 0.9778, 0.7621, 0.8994]]])"
            ]
          },
          "metadata": {},
          "execution_count": 66
        }
      ]
    },
    {
      "cell_type": "code",
      "source": [
        "f.shape"
      ],
      "metadata": {
        "colab": {
          "base_uri": "https://localhost:8080/"
        },
        "id": "BUdfzDQjw-tG",
        "outputId": "9e16f16a-5b62-4501-dc98-260df5885167"
      },
      "execution_count": 67,
      "outputs": [
        {
          "output_type": "execute_result",
          "data": {
            "text/plain": [
              "torch.Size([224, 224, 3])"
            ]
          },
          "metadata": {},
          "execution_count": 67
        }
      ]
    },
    {
      "cell_type": "code",
      "source": [
        "g.shape"
      ],
      "metadata": {
        "colab": {
          "base_uri": "https://localhost:8080/"
        },
        "id": "cb0cgUAaw-wh",
        "outputId": "1a655d50-ded9-4b2f-8fde-6e59bc40afd1"
      },
      "execution_count": 68,
      "outputs": [
        {
          "output_type": "execute_result",
          "data": {
            "text/plain": [
              "torch.Size([3, 224, 224])"
            ]
          },
          "metadata": {},
          "execution_count": 68
        }
      ]
    },
    {
      "cell_type": "code",
      "source": [
        "h=torch.arange(1,10).reshape(1,3,3)\n",
        "h"
      ],
      "metadata": {
        "id": "cXM5XxHTw-zd",
        "colab": {
          "base_uri": "https://localhost:8080/"
        },
        "outputId": "903b31bc-e4d9-40a2-9aa6-46cf22f26c1f"
      },
      "execution_count": 69,
      "outputs": [
        {
          "output_type": "execute_result",
          "data": {
            "text/plain": [
              "tensor([[[1, 2, 3],\n",
              "         [4, 5, 6],\n",
              "         [7, 8, 9]]])"
            ]
          },
          "metadata": {},
          "execution_count": 69
        }
      ]
    },
    {
      "cell_type": "code",
      "source": [
        "h.shape"
      ],
      "metadata": {
        "id": "zdCY5vsjw-2Z",
        "colab": {
          "base_uri": "https://localhost:8080/"
        },
        "outputId": "8b4e93f8-2219-4dc2-dd42-9d989d565c34"
      },
      "execution_count": 70,
      "outputs": [
        {
          "output_type": "execute_result",
          "data": {
            "text/plain": [
              "torch.Size([1, 3, 3])"
            ]
          },
          "metadata": {},
          "execution_count": 70
        }
      ]
    },
    {
      "cell_type": "code",
      "source": [
        "h[0][0][0]"
      ],
      "metadata": {
        "id": "c-RMdXWUw-50",
        "colab": {
          "base_uri": "https://localhost:8080/"
        },
        "outputId": "3e7b7e54-eff5-4923-e9ee-008bd41fd7d4"
      },
      "execution_count": 71,
      "outputs": [
        {
          "output_type": "execute_result",
          "data": {
            "text/plain": [
              "tensor(1)"
            ]
          },
          "metadata": {},
          "execution_count": 71
        }
      ]
    },
    {
      "cell_type": "code",
      "source": [
        "h[:,0]"
      ],
      "metadata": {
        "id": "sXWuXqKBw-HB",
        "colab": {
          "base_uri": "https://localhost:8080/"
        },
        "outputId": "e3c98d6c-8837-4acd-eb3b-589302e6658d"
      },
      "execution_count": 72,
      "outputs": [
        {
          "output_type": "execute_result",
          "data": {
            "text/plain": [
              "tensor([[1, 2, 3]])"
            ]
          },
          "metadata": {},
          "execution_count": 72
        }
      ]
    },
    {
      "cell_type": "code",
      "source": [
        "h[:,:,2]"
      ],
      "metadata": {
        "id": "FPdxIZIWw-D5",
        "colab": {
          "base_uri": "https://localhost:8080/"
        },
        "outputId": "94eb716a-ca8e-4e34-982c-161c7e5b93fb"
      },
      "execution_count": 73,
      "outputs": [
        {
          "output_type": "execute_result",
          "data": {
            "text/plain": [
              "tensor([[3, 6, 9]])"
            ]
          },
          "metadata": {},
          "execution_count": 73
        }
      ]
    },
    {
      "cell_type": "code",
      "source": [
        "import numpy as np"
      ],
      "metadata": {
        "id": "VJWEEbgNw-A8"
      },
      "execution_count": 74,
      "outputs": []
    },
    {
      "cell_type": "code",
      "source": [
        "array=np.arange(1.0,10.0)\n",
        "print(array)"
      ],
      "metadata": {
        "id": "HL1nZw-Iw9-C",
        "colab": {
          "base_uri": "https://localhost:8080/"
        },
        "outputId": "ca299ca9-da80-4515-fb9e-9462971b8d1e"
      },
      "execution_count": 75,
      "outputs": [
        {
          "output_type": "stream",
          "name": "stdout",
          "text": [
            "[1. 2. 3. 4. 5. 6. 7. 8. 9.]\n"
          ]
        }
      ]
    },
    {
      "cell_type": "code",
      "source": [
        "tensor=torch.from_numpy(array)\n",
        "print(tensor)"
      ],
      "metadata": {
        "colab": {
          "base_uri": "https://localhost:8080/"
        },
        "id": "8XdH8YzRpbVb",
        "outputId": "4be989c0-cfa6-4bd6-a017-298c0f83686a"
      },
      "execution_count": 76,
      "outputs": [
        {
          "output_type": "stream",
          "name": "stdout",
          "text": [
            "tensor([1., 2., 3., 4., 5., 6., 7., 8., 9.], dtype=torch.float64)\n"
          ]
        }
      ]
    },
    {
      "cell_type": "code",
      "source": [
        "array=array+1\n",
        "array"
      ],
      "metadata": {
        "colab": {
          "base_uri": "https://localhost:8080/"
        },
        "id": "VlqA2Wk2pbjS",
        "outputId": "451b5cbf-6836-4718-f9e6-7a8fc8f35908"
      },
      "execution_count": 77,
      "outputs": [
        {
          "output_type": "execute_result",
          "data": {
            "text/plain": [
              "array([ 2.,  3.,  4.,  5.,  6.,  7.,  8.,  9., 10.])"
            ]
          },
          "metadata": {},
          "execution_count": 77
        }
      ]
    },
    {
      "cell_type": "code",
      "source": [
        "tensor=torch.ones(7)\n",
        "tensor"
      ],
      "metadata": {
        "colab": {
          "base_uri": "https://localhost:8080/"
        },
        "id": "2whx3iFDpbmo",
        "outputId": "d61dd7e8-1b52-48fa-cbad-e6e35025f276"
      },
      "execution_count": 78,
      "outputs": [
        {
          "output_type": "execute_result",
          "data": {
            "text/plain": [
              "tensor([1., 1., 1., 1., 1., 1., 1.])"
            ]
          },
          "metadata": {},
          "execution_count": 78
        }
      ]
    },
    {
      "cell_type": "code",
      "source": [
        "x=tensor.numpy()\n",
        "x"
      ],
      "metadata": {
        "colab": {
          "base_uri": "https://localhost:8080/"
        },
        "id": "q7jl0lxppbqR",
        "outputId": "1e9a1501-fd98-4d35-a6fa-21607496a8b4"
      },
      "execution_count": 79,
      "outputs": [
        {
          "output_type": "execute_result",
          "data": {
            "text/plain": [
              "array([1., 1., 1., 1., 1., 1., 1.], dtype=float32)"
            ]
          },
          "metadata": {},
          "execution_count": 79
        }
      ]
    },
    {
      "cell_type": "code",
      "source": [
        "x=x+1\n",
        "x"
      ],
      "metadata": {
        "colab": {
          "base_uri": "https://localhost:8080/"
        },
        "id": "zFH-NdfGpbtE",
        "outputId": "e1d9fff7-61c7-4d4c-a9aa-e18f98c86365"
      },
      "execution_count": 80,
      "outputs": [
        {
          "output_type": "execute_result",
          "data": {
            "text/plain": [
              "array([2., 2., 2., 2., 2., 2., 2.], dtype=float32)"
            ]
          },
          "metadata": {},
          "execution_count": 80
        }
      ]
    },
    {
      "cell_type": "code",
      "source": [
        "k=torch.rand(3,3)\n",
        "k"
      ],
      "metadata": {
        "colab": {
          "base_uri": "https://localhost:8080/"
        },
        "id": "SkN3ZalPpbwa",
        "outputId": "71d6b40e-6ea3-476b-f7a7-38052e87ece7"
      },
      "execution_count": 81,
      "outputs": [
        {
          "output_type": "execute_result",
          "data": {
            "text/plain": [
              "tensor([[0.3621, 0.4551, 0.3455],\n",
              "        [0.1934, 0.5814, 0.7084],\n",
              "        [0.3095, 0.8284, 0.8625]])"
            ]
          },
          "metadata": {},
          "execution_count": 81
        }
      ]
    },
    {
      "cell_type": "code",
      "source": [
        "l=torch.rand(3,3)\n",
        "l"
      ],
      "metadata": {
        "colab": {
          "base_uri": "https://localhost:8080/"
        },
        "id": "6qoQkRr9pbzK",
        "outputId": "c0fe59b3-a324-4e67-f75a-ece238431f5c"
      },
      "execution_count": 82,
      "outputs": [
        {
          "output_type": "execute_result",
          "data": {
            "text/plain": [
              "tensor([[0.8756, 0.3194, 0.7461],\n",
              "        [0.7132, 0.2773, 0.3600],\n",
              "        [0.1690, 0.6711, 0.5664]])"
            ]
          },
          "metadata": {},
          "execution_count": 82
        }
      ]
    },
    {
      "cell_type": "code",
      "source": [
        "k==l"
      ],
      "metadata": {
        "colab": {
          "base_uri": "https://localhost:8080/"
        },
        "id": "L1ZIlJ-Kpb2R",
        "outputId": "dd7d9a4e-9408-4286-8a51-77224c6964be"
      },
      "execution_count": 83,
      "outputs": [
        {
          "output_type": "execute_result",
          "data": {
            "text/plain": [
              "tensor([[False, False, False],\n",
              "        [False, False, False],\n",
              "        [False, False, False]])"
            ]
          },
          "metadata": {},
          "execution_count": 83
        }
      ]
    },
    {
      "cell_type": "code",
      "source": [
        "random_seed=42\n",
        "torch.manual_seed(random_seed)\n",
        "k1=torch.rand(3,3)\n",
        "torch.manual_seed(random_seed)\n",
        "k2=torch.rand(3,3)\n",
        "print(k1)\n",
        "print(\"===================================\")\n",
        "print(k2)\n",
        "print(\"===================================\")\n",
        "print(k1==k2)"
      ],
      "metadata": {
        "colab": {
          "base_uri": "https://localhost:8080/"
        },
        "id": "ixa3xYs5pb5u",
        "outputId": "f07ec9bd-a9d7-4350-f1fd-c271493296fc"
      },
      "execution_count": 84,
      "outputs": [
        {
          "output_type": "stream",
          "name": "stdout",
          "text": [
            "tensor([[0.8823, 0.9150, 0.3829],\n",
            "        [0.9593, 0.3904, 0.6009],\n",
            "        [0.2566, 0.7936, 0.9408]])\n",
            "===================================\n",
            "tensor([[0.8823, 0.9150, 0.3829],\n",
            "        [0.9593, 0.3904, 0.6009],\n",
            "        [0.2566, 0.7936, 0.9408]])\n",
            "===================================\n",
            "tensor([[True, True, True],\n",
            "        [True, True, True],\n",
            "        [True, True, True]])\n"
          ]
        }
      ]
    },
    {
      "cell_type": "code",
      "source": [
        "device = torch.device(\"cuda:0\" if torch.cuda.is_available() else \"cpu\")  # Check if GPU is available\n",
        "device"
      ],
      "metadata": {
        "colab": {
          "base_uri": "https://localhost:8080/"
        },
        "id": "N4ucd7Sbpb80",
        "outputId": "c10cf363-23f0-4e5e-c703-3800c407b625"
      },
      "execution_count": 85,
      "outputs": [
        {
          "output_type": "execute_result",
          "data": {
            "text/plain": [
              "device(type='cuda', index=0)"
            ]
          },
          "metadata": {},
          "execution_count": 85
        }
      ]
    },
    {
      "cell_type": "code",
      "source": [
        "j=torch.arange(1,10).reshape(1,3,3)\n",
        "# a.reshape(1,3,3)\n",
        "j"
      ],
      "metadata": {
        "id": "b06qhVmupcAP",
        "colab": {
          "base_uri": "https://localhost:8080/"
        },
        "outputId": "5b34af46-af89-4807-cdc8-b14ba0cfe5dc"
      },
      "execution_count": 86,
      "outputs": [
        {
          "output_type": "execute_result",
          "data": {
            "text/plain": [
              "tensor([[[1, 2, 3],\n",
              "         [4, 5, 6],\n",
              "         [7, 8, 9]]])"
            ]
          },
          "metadata": {},
          "execution_count": 86
        }
      ]
    },
    {
      "cell_type": "code",
      "source": [
        "j[0][1]"
      ],
      "metadata": {
        "id": "JKqqPJcvpcDz",
        "colab": {
          "base_uri": "https://localhost:8080/"
        },
        "outputId": "6141ccd9-54bf-4986-d5fa-7741bbe2b42b"
      },
      "execution_count": 87,
      "outputs": [
        {
          "output_type": "execute_result",
          "data": {
            "text/plain": [
              "tensor([4, 5, 6])"
            ]
          },
          "metadata": {},
          "execution_count": 87
        }
      ]
    },
    {
      "cell_type": "code",
      "source": [
        "j[:,0]"
      ],
      "metadata": {
        "id": "ntqDsDYcpcG0",
        "colab": {
          "base_uri": "https://localhost:8080/"
        },
        "outputId": "a288f708-92f7-46dd-dacb-75f5d74e0aa9"
      },
      "execution_count": 88,
      "outputs": [
        {
          "output_type": "execute_result",
          "data": {
            "text/plain": [
              "tensor([[1, 2, 3]])"
            ]
          },
          "metadata": {},
          "execution_count": 88
        }
      ]
    },
    {
      "cell_type": "code",
      "source": [
        "j[:,1]"
      ],
      "metadata": {
        "id": "Z-C9c9dmpcJW",
        "colab": {
          "base_uri": "https://localhost:8080/"
        },
        "outputId": "25dda46d-b5fb-4698-fc19-9c16aaf27877"
      },
      "execution_count": 89,
      "outputs": [
        {
          "output_type": "execute_result",
          "data": {
            "text/plain": [
              "tensor([[4, 5, 6]])"
            ]
          },
          "metadata": {},
          "execution_count": 89
        }
      ]
    },
    {
      "cell_type": "code",
      "source": [
        "j[0][2][2]"
      ],
      "metadata": {
        "colab": {
          "base_uri": "https://localhost:8080/"
        },
        "id": "iVjH19mU-XYd",
        "outputId": "5c011c50-4471-4c45-ca9b-545b9be2acb4"
      },
      "execution_count": 90,
      "outputs": [
        {
          "output_type": "execute_result",
          "data": {
            "text/plain": [
              "tensor(9)"
            ]
          },
          "metadata": {},
          "execution_count": 90
        }
      ]
    },
    {
      "cell_type": "code",
      "source": [
        "import numpy as np\n",
        "array=np.arange(1.0,10.0)\n",
        "tensor=torch.from_numpy(array)\n",
        "array"
      ],
      "metadata": {
        "id": "Ptp0uBZL-XVL",
        "colab": {
          "base_uri": "https://localhost:8080/"
        },
        "outputId": "d42802c1-1dc9-4f2a-d818-e8e6018934e1"
      },
      "execution_count": 91,
      "outputs": [
        {
          "output_type": "execute_result",
          "data": {
            "text/plain": [
              "array([1., 2., 3., 4., 5., 6., 7., 8., 9.])"
            ]
          },
          "metadata": {},
          "execution_count": 91
        }
      ]
    },
    {
      "cell_type": "code",
      "source": [
        "tensor"
      ],
      "metadata": {
        "id": "8goPUR8s-XR-",
        "colab": {
          "base_uri": "https://localhost:8080/"
        },
        "outputId": "92efce47-fd62-4c06-b56f-d2aebb72367d"
      },
      "execution_count": 92,
      "outputs": [
        {
          "output_type": "execute_result",
          "data": {
            "text/plain": [
              "tensor([1., 2., 3., 4., 5., 6., 7., 8., 9.], dtype=torch.float64)"
            ]
          },
          "metadata": {},
          "execution_count": 92
        }
      ]
    },
    {
      "cell_type": "code",
      "source": [
        "array.dtype"
      ],
      "metadata": {
        "id": "h2rVnrKj-XJU",
        "colab": {
          "base_uri": "https://localhost:8080/"
        },
        "outputId": "b5b3dfb1-aace-450e-add2-7ca90f765a06"
      },
      "execution_count": 93,
      "outputs": [
        {
          "output_type": "execute_result",
          "data": {
            "text/plain": [
              "dtype('float64')"
            ]
          },
          "metadata": {},
          "execution_count": 93
        }
      ]
    },
    {
      "cell_type": "code",
      "source": [
        "torch.arange(2.0,20.0).dtype"
      ],
      "metadata": {
        "id": "CyzNiChd-XGE",
        "colab": {
          "base_uri": "https://localhost:8080/"
        },
        "outputId": "f23615b0-9611-46c7-b516-fd831daeb7f2"
      },
      "execution_count": 94,
      "outputs": [
        {
          "output_type": "execute_result",
          "data": {
            "text/plain": [
              "torch.float32"
            ]
          },
          "metadata": {},
          "execution_count": 94
        }
      ]
    },
    {
      "cell_type": "code",
      "source": [
        "array+=1\n",
        "array"
      ],
      "metadata": {
        "id": "JvGV4hIe-XCc",
        "colab": {
          "base_uri": "https://localhost:8080/"
        },
        "outputId": "da749808-7c0f-4c30-fafe-4a793ded9124"
      },
      "execution_count": 95,
      "outputs": [
        {
          "output_type": "execute_result",
          "data": {
            "text/plain": [
              "array([ 2.,  3.,  4.,  5.,  6.,  7.,  8.,  9., 10.])"
            ]
          },
          "metadata": {},
          "execution_count": 95
        }
      ]
    },
    {
      "cell_type": "code",
      "source": [
        "#tensor to numpy\n",
        "tensor=torch.ones(7)\n",
        "numpy_tensor=tensor.numpy()\n",
        "tensor"
      ],
      "metadata": {
        "id": "SeLK7yDT-W__",
        "colab": {
          "base_uri": "https://localhost:8080/"
        },
        "outputId": "54f0413e-c5eb-48fe-9b43-894ad8950ca4"
      },
      "execution_count": 96,
      "outputs": [
        {
          "output_type": "execute_result",
          "data": {
            "text/plain": [
              "tensor([1., 1., 1., 1., 1., 1., 1.])"
            ]
          },
          "metadata": {},
          "execution_count": 96
        }
      ]
    },
    {
      "cell_type": "code",
      "source": [
        "numpy_tensor"
      ],
      "metadata": {
        "id": "RwKr9COh-W8l",
        "colab": {
          "base_uri": "https://localhost:8080/"
        },
        "outputId": "e697e5dc-c8d3-4425-ca8a-12fd6c305d57"
      },
      "execution_count": 97,
      "outputs": [
        {
          "output_type": "execute_result",
          "data": {
            "text/plain": [
              "array([1., 1., 1., 1., 1., 1., 1.], dtype=float32)"
            ]
          },
          "metadata": {},
          "execution_count": 97
        }
      ]
    },
    {
      "cell_type": "code",
      "source": [
        "\n",
        "a=torch.rand(3,3)\n",
        "b=torch.rand(3,3)"
      ],
      "metadata": {
        "id": "MLB4l9GA-W6b"
      },
      "execution_count": 98,
      "outputs": []
    },
    {
      "cell_type": "code",
      "source": [
        "a"
      ],
      "metadata": {
        "id": "RkTIB2iE-W3A",
        "colab": {
          "base_uri": "https://localhost:8080/"
        },
        "outputId": "997a79a4-6677-40a4-e115-1431f9668bba"
      },
      "execution_count": 99,
      "outputs": [
        {
          "output_type": "execute_result",
          "data": {
            "text/plain": [
              "tensor([[0.1332, 0.9346, 0.5936],\n",
              "        [0.8694, 0.5677, 0.7411],\n",
              "        [0.4294, 0.8854, 0.5739]])"
            ]
          },
          "metadata": {},
          "execution_count": 99
        }
      ]
    },
    {
      "cell_type": "code",
      "source": [
        "b"
      ],
      "metadata": {
        "id": "_J3wvGi2-W0K",
        "colab": {
          "base_uri": "https://localhost:8080/"
        },
        "outputId": "007c8476-8b4b-4c7c-9ac8-a35d825e4621"
      },
      "execution_count": 100,
      "outputs": [
        {
          "output_type": "execute_result",
          "data": {
            "text/plain": [
              "tensor([[0.2666, 0.6274, 0.2696],\n",
              "        [0.4414, 0.2969, 0.8317],\n",
              "        [0.1053, 0.2695, 0.3588]])"
            ]
          },
          "metadata": {},
          "execution_count": 100
        }
      ]
    },
    {
      "cell_type": "code",
      "source": [
        "a==b"
      ],
      "metadata": {
        "id": "YJihVYJr-Wxn",
        "colab": {
          "base_uri": "https://localhost:8080/"
        },
        "outputId": "0e63de7d-21fb-4e15-cbb7-e083d9e53a63"
      },
      "execution_count": 101,
      "outputs": [
        {
          "output_type": "execute_result",
          "data": {
            "text/plain": [
              "tensor([[False, False, False],\n",
              "        [False, False, False],\n",
              "        [False, False, False]])"
            ]
          },
          "metadata": {},
          "execution_count": 101
        }
      ]
    },
    {
      "cell_type": "code",
      "source": [
        "random_seed=42\n",
        "torch.manual_seed(random_seed)\n",
        "d=torch.rand(3,3)\n",
        "torch.manual_seed(random_seed)\n",
        "e=torch.rand(3,3)"
      ],
      "metadata": {
        "id": "oRc8ViuB-Wua"
      },
      "execution_count": 102,
      "outputs": []
    },
    {
      "cell_type": "code",
      "source": [
        "print(d)\n",
        "print(\"===============================\")\n",
        "print(e)"
      ],
      "metadata": {
        "colab": {
          "base_uri": "https://localhost:8080/"
        },
        "id": "KBZK8iTF3iCC",
        "outputId": "0b2a1a69-96d9-4236-a430-e0e3b14da25e"
      },
      "execution_count": 103,
      "outputs": [
        {
          "output_type": "stream",
          "name": "stdout",
          "text": [
            "tensor([[0.8823, 0.9150, 0.3829],\n",
            "        [0.9593, 0.3904, 0.6009],\n",
            "        [0.2566, 0.7936, 0.9408]])\n",
            "===============================\n",
            "tensor([[0.8823, 0.9150, 0.3829],\n",
            "        [0.9593, 0.3904, 0.6009],\n",
            "        [0.2566, 0.7936, 0.9408]])\n"
          ]
        }
      ]
    },
    {
      "cell_type": "code",
      "source": [
        "d==e"
      ],
      "metadata": {
        "id": "EflNPQLL-Wrj",
        "colab": {
          "base_uri": "https://localhost:8080/"
        },
        "outputId": "ee005e76-5ee8-4b45-d80e-4db9b6f4f364"
      },
      "execution_count": 104,
      "outputs": [
        {
          "output_type": "execute_result",
          "data": {
            "text/plain": [
              "tensor([[True, True, True],\n",
              "        [True, True, True],\n",
              "        [True, True, True]])"
            ]
          },
          "metadata": {},
          "execution_count": 104
        }
      ]
    },
    {
      "cell_type": "code",
      "source": [
        "!nvidia-smi"
      ],
      "metadata": {
        "id": "wR-udsQD-Wmj",
        "colab": {
          "base_uri": "https://localhost:8080/"
        },
        "outputId": "6811b0a5-e3f7-490d-9434-b349d9b1fac5"
      },
      "execution_count": 105,
      "outputs": [
        {
          "output_type": "stream",
          "name": "stdout",
          "text": [
            "Sat Oct 28 15:24:43 2023       \n",
            "+-----------------------------------------------------------------------------+\n",
            "| NVIDIA-SMI 525.105.17   Driver Version: 525.105.17   CUDA Version: 12.0     |\n",
            "|-------------------------------+----------------------+----------------------+\n",
            "| GPU  Name        Persistence-M| Bus-Id        Disp.A | Volatile Uncorr. ECC |\n",
            "| Fan  Temp  Perf  Pwr:Usage/Cap|         Memory-Usage | GPU-Util  Compute M. |\n",
            "|                               |                      |               MIG M. |\n",
            "|===============================+======================+======================|\n",
            "|   0  Tesla T4            Off  | 00000000:00:04.0 Off |                    0 |\n",
            "| N/A   42C    P8     9W /  70W |      3MiB / 15360MiB |      0%      Default |\n",
            "|                               |                      |                  N/A |\n",
            "+-------------------------------+----------------------+----------------------+\n",
            "                                                                               \n",
            "+-----------------------------------------------------------------------------+\n",
            "| Processes:                                                                  |\n",
            "|  GPU   GI   CI        PID   Type   Process name                  GPU Memory |\n",
            "|        ID   ID                                                   Usage      |\n",
            "|=============================================================================|\n",
            "|  No running processes found                                                 |\n",
            "+-----------------------------------------------------------------------------+\n"
          ]
        }
      ]
    },
    {
      "cell_type": "code",
      "source": [
        "torch.cuda.is_available()"
      ],
      "metadata": {
        "id": "fLYXzE01-WjF",
        "colab": {
          "base_uri": "https://localhost:8080/"
        },
        "outputId": "e2dfcdbc-1f28-4307-9216-129b4ddbc10f"
      },
      "execution_count": 106,
      "outputs": [
        {
          "output_type": "execute_result",
          "data": {
            "text/plain": [
              "True"
            ]
          },
          "metadata": {},
          "execution_count": 106
        }
      ]
    },
    {
      "cell_type": "code",
      "source": [
        "device=\"cuda\" if torch.cuda.is_available() else \"cpu\""
      ],
      "metadata": {
        "id": "L6DIdOlb41sT"
      },
      "execution_count": 108,
      "outputs": []
    },
    {
      "cell_type": "code",
      "source": [
        "device"
      ],
      "metadata": {
        "colab": {
          "base_uri": "https://localhost:8080/",
          "height": 35
        },
        "id": "l_uyNFe141ow",
        "outputId": "d6ed57ce-d8a9-4fc8-a7fb-35987b7e7dd6"
      },
      "execution_count": 109,
      "outputs": [
        {
          "output_type": "execute_result",
          "data": {
            "text/plain": [
              "'cuda'"
            ],
            "application/vnd.google.colaboratory.intrinsic+json": {
              "type": "string"
            }
          },
          "metadata": {},
          "execution_count": 109
        }
      ]
    },
    {
      "cell_type": "code",
      "source": [
        "tensor=torch.tensor([1,2,3])\n",
        "tensor"
      ],
      "metadata": {
        "colab": {
          "base_uri": "https://localhost:8080/"
        },
        "id": "hSMnZVjG41jh",
        "outputId": "d87999d1-f338-4381-8359-63013e01eb63"
      },
      "execution_count": 110,
      "outputs": [
        {
          "output_type": "execute_result",
          "data": {
            "text/plain": [
              "tensor([1, 2, 3])"
            ]
          },
          "metadata": {},
          "execution_count": 110
        }
      ]
    },
    {
      "cell_type": "code",
      "source": [
        "tensor.device"
      ],
      "metadata": {
        "colab": {
          "base_uri": "https://localhost:8080/"
        },
        "id": "kd0lSKRU41gQ",
        "outputId": "174b83c0-e148-45eb-ecc0-b197cbde6faa"
      },
      "execution_count": 111,
      "outputs": [
        {
          "output_type": "execute_result",
          "data": {
            "text/plain": [
              "device(type='cpu')"
            ]
          },
          "metadata": {},
          "execution_count": 111
        }
      ]
    },
    {
      "cell_type": "code",
      "source": [
        "cpu_to_gpu=tensor.to(device)\n",
        "cpu_to_gpu"
      ],
      "metadata": {
        "colab": {
          "base_uri": "https://localhost:8080/"
        },
        "id": "M2-rOFIA41dN",
        "outputId": "eb450edf-b04b-4e92-bb9a-8a0b50cf01f1"
      },
      "execution_count": 112,
      "outputs": [
        {
          "output_type": "execute_result",
          "data": {
            "text/plain": [
              "tensor([1, 2, 3], device='cuda:0')"
            ]
          },
          "metadata": {},
          "execution_count": 112
        }
      ]
    },
    {
      "cell_type": "code",
      "source": [],
      "metadata": {
        "id": "0Klz5AKQ78uc"
      },
      "execution_count": null,
      "outputs": []
    }
  ]
}
